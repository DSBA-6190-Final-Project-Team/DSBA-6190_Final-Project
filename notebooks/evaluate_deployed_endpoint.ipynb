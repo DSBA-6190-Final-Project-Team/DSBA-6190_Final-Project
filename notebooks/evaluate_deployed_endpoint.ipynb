{
 "cells": [
  {
   "cell_type": "markdown",
   "metadata": {},
   "source": [
    "# Import"
   ]
  },
  {
   "cell_type": "code",
   "execution_count": 50,
   "metadata": {},
   "outputs": [],
   "source": [
    "import os\n",
    "import json\n",
    "import posixpath\n",
    "import requests\n",
    "from PIL import Image\n",
    "\n",
    "import pandas as pd\n",
    "import numpy as np\n",
    "\n",
    "import boto3\n",
    "import sagemaker"
   ]
  },
  {
   "cell_type": "markdown",
   "metadata": {},
   "source": [
    "# Set Up"
   ]
  },
  {
   "cell_type": "markdown",
   "metadata": {},
   "source": [
    "## Global Parameters"
   ]
  },
  {
   "cell_type": "code",
   "execution_count": 22,
   "metadata": {},
   "outputs": [],
   "source": [
    "# Define Region\n",
    "region = \"us-east-1\"\n",
    "\n",
    "# Define Bucket\n",
    "bucket = \"dsba-6190-final-team-project\"\n",
    "key_level_1 = \"imgs\"\n",
    "key_level_2 = \"test\"\n",
    "\n",
    "# Define Endpoint\n",
    "endpoint_name = 'image-classification-drivers-endpoint'"
   ]
  },
  {
   "cell_type": "markdown",
   "metadata": {},
   "source": [
    "## AWS Functions"
   ]
  },
  {
   "cell_type": "code",
   "execution_count": 23,
   "metadata": {},
   "outputs": [],
   "source": [
    "# Establish Boto3 Session\n",
    "boto_sess = boto3.session.Session(region_name=region)\n",
    "\n",
    "# Invoke SageMaker Runtime Client\n",
    "runtime = boto_sess.client(service_name='runtime.sagemaker')\n",
    "\n",
    "# Invoke S3 Client\n",
    "s3_client = boto_sess.client(service_name='s3')\n",
    "\n",
    "# Invoke S3 Resource\n",
    "s3_res = boto_sess.resource('s3')"
   ]
  },
  {
   "cell_type": "markdown",
   "metadata": {},
   "source": [
    "# Import Test Images\n",
    "The test images are located in the project S3 Bucket, under with the key prefix **imgs/test**."
   ]
  },
  {
   "cell_type": "markdown",
   "metadata": {},
   "source": [
    "## Generate List of Images\n",
    "First, we create a list of all objects in the project bucket, under prefix **imgs/test**. "
   ]
  },
  {
   "cell_type": "code",
   "execution_count": 24,
   "metadata": {},
   "outputs": [],
   "source": [
    "s3_list_obj_param = {\n",
    "    \"Bucket\" : bucket,\n",
    "    \"Prefix\" : posixpath.join(key_level_1, key_level_2)\n",
    "}\n",
    "\n",
    "response = s3_client.list_objects_v2(**s3_list_obj_param)"
   ]
  },
  {
   "cell_type": "markdown",
   "metadata": {},
   "source": [
    "The initial call returns a large amount of metadata we are not interested in. So we strip it down to just the contents of the the list. The contents still encapsulate a dictionary of file name and additional metadata. So we further strip this down to only extract the file names, aka, the value associated with the key.\n",
    "\n",
    "We also add a filter to ensure all the contents we are collecting are JPG images."
   ]
  },
  {
   "cell_type": "code",
   "execution_count": 25,
   "metadata": {},
   "outputs": [],
   "source": [
    "# Extract Contents from Item Search Response\n",
    "test_imgs_contents = response['Contents']\n",
    "\n",
    "# Initialize List of Test Images\n",
    "test_imgs_list = []\n",
    "\n",
    "# Append Keys for Test Images\n",
    "for item in test_imgs_contents:\n",
    "    for key, value in item.items():\n",
    "        if key == 'Key' and 'jpg' in value:\n",
    "            test_imgs_list.append(value)\n",
    "            \n",
    "#print(test_imgs_list)"
   ]
  },
  {
   "cell_type": "code",
   "execution_count": 26,
   "metadata": {},
   "outputs": [],
   "source": [
    "file_name = \"test_data.jpg\"\n",
    "s3_res.Bucket(bucket).download_file(test_imgs_list[5], file_name)"
   ]
  },
  {
   "cell_type": "code",
   "execution_count": 52,
   "metadata": {},
   "outputs": [],
   "source": [
    "#Image(file_name)"
   ]
  },
  {
   "cell_type": "code",
   "execution_count": 28,
   "metadata": {},
   "outputs": [],
   "source": [
    "with open(file_name, 'rb') as f:\n",
    "    payload = f.read()\n",
    "    payload = bytearray(payload)"
   ]
  },
  {
   "cell_type": "code",
   "execution_count": 29,
   "metadata": {},
   "outputs": [
    {
     "data": {
      "text/plain": [
       "[0.0013738921843469143,\n",
       " 0.006509726867079735,\n",
       " 0.0007989784935489297,\n",
       " 0.7969539165496826,\n",
       " 0.011298753321170807,\n",
       " 0.0015191242564469576,\n",
       " 0.1321578323841095,\n",
       " 0.023936884477734566,\n",
       " 0.024842921644449234,\n",
       " 0.0006078389124013484]"
      ]
     },
     "execution_count": 29,
     "metadata": {},
     "output_type": "execute_result"
    }
   ],
   "source": [
    "response = runtime.invoke_endpoint(EndpointName=endpoint_name, \n",
    "                                   ContentType='application/x-image', \n",
    "                                   Body=payload)\n",
    "result = response['Body'].read()\n",
    "result = json.loads(result)\n",
    "result"
   ]
  },
  {
   "cell_type": "markdown",
   "metadata": {},
   "source": [
    "# Test REST API"
   ]
  },
  {
   "cell_type": "code",
   "execution_count": 71,
   "metadata": {},
   "outputs": [],
   "source": [
    "host_url = \"https://96gfw8ry96.execute-api.us-east-1.amazonaws.com\"\n",
    "page = \"Test/predict\"\n",
    "image_location = posixpath.join(\"..\",\"imgs\", \"kaggle\",\"train\", \"c8\", \"img_531.jpg\")\n",
    "image_location_test = \"test_image\\\\img_531.jpg\"\n",
    "headers = {\n",
    "    \"Content-Type\" : \"image/jpg\"\n",
    "}\n"
   ]
  },
  {
   "cell_type": "code",
   "execution_count": 45,
   "metadata": {},
   "outputs": [
    {
     "ename": "FileNotFoundError",
     "evalue": "[Errno 2] No such file or directory: '/test_image/img_531.jpg'",
     "output_type": "error",
     "traceback": [
      "\u001b[1;31m---------------------------------------------------------------------------\u001b[0m",
      "\u001b[1;31mFileNotFoundError\u001b[0m                         Traceback (most recent call last)",
      "\u001b[1;32m<ipython-input-45-08d49ed8d4ec>\u001b[0m in \u001b[0;36m<module>\u001b[1;34m\u001b[0m\n\u001b[1;32m----> 1\u001b[1;33m \u001b[1;32mwith\u001b[0m \u001b[0mopen\u001b[0m\u001b[1;33m(\u001b[0m\u001b[0mimage_location\u001b[0m\u001b[1;33m,\u001b[0m \u001b[1;34m'rb'\u001b[0m\u001b[1;33m)\u001b[0m \u001b[1;32mas\u001b[0m \u001b[0mf\u001b[0m\u001b[1;33m:\u001b[0m\u001b[1;33m\u001b[0m\u001b[1;33m\u001b[0m\u001b[0m\n\u001b[0m\u001b[0;32m      2\u001b[0m     \u001b[0mpayload\u001b[0m \u001b[1;33m=\u001b[0m \u001b[0mf\u001b[0m\u001b[1;33m\u001b[0m\u001b[1;33m\u001b[0m\u001b[0m\n",
      "\u001b[1;31mFileNotFoundError\u001b[0m: [Errno 2] No such file or directory: '/test_image/img_531.jpg'"
     ]
    }
   ],
   "source": [
    "with open(image_location, 'rb') as f:\n",
    "    payload = f"
   ]
  },
  {
   "cell_type": "code",
   "execution_count": 63,
   "metadata": {},
   "outputs": [],
   "source": [
    "img = Image.open(image_location)"
   ]
  },
  {
   "cell_type": "code",
   "execution_count": 66,
   "metadata": {},
   "outputs": [],
   "source": [
    "data = open(image_location,'rb').read()"
   ]
  },
  {
   "cell_type": "code",
   "execution_count": 81,
   "metadata": {},
   "outputs": [
    {
     "data": {
      "text/plain": [
       "'https://96gfw8ry96.execute-api.us-east-1.amazonaws.com/Test/predict'"
      ]
     },
     "execution_count": 81,
     "metadata": {},
     "output_type": "execute_result"
    }
   ],
   "source": [
    "posixpath.join(host_url, page)"
   ]
  },
  {
   "cell_type": "code",
   "execution_count": 84,
   "metadata": {},
   "outputs": [
    {
     "data": {
      "text/plain": [
       "{'payload': [0.0014833195600658655,\n",
       "  0.004504410549998283,\n",
       "  0.002835447434335947,\n",
       "  0.002531913109123707,\n",
       "  0.0010949309216812253,\n",
       "  4.184579211141681e-06,\n",
       "  0.0185650996863842,\n",
       "  0.009754505008459091,\n",
       "  0.9559757709503174,\n",
       "  0.003250404028221965]}"
      ]
     },
     "execution_count": 84,
     "metadata": {},
     "output_type": "execute_result"
    }
   ],
   "source": [
    "response = requests.post(url=posixpath.join(host_url, page),\n",
    "                  data=data, headers=headers)\n",
    "json.loads(response.text)"
   ]
  }
 ],
 "metadata": {
  "kernelspec": {
   "display_name": "Python 3",
   "language": "python",
   "name": "python3"
  },
  "language_info": {
   "codemirror_mode": {
    "name": "ipython",
    "version": 3
   },
   "file_extension": ".py",
   "mimetype": "text/x-python",
   "name": "python",
   "nbconvert_exporter": "python",
   "pygments_lexer": "ipython3",
   "version": "3.6.10"
  }
 },
 "nbformat": 4,
 "nbformat_minor": 4
}
