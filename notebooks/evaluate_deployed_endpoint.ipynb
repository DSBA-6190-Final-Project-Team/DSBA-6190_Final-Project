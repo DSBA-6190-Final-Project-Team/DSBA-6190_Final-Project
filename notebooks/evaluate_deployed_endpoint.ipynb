{
 "cells": [
  {
   "cell_type": "markdown",
   "metadata": {},
   "source": [
    "# Import"
   ]
  },
  {
   "cell_type": "code",
   "execution_count": 47,
   "metadata": {},
   "outputs": [],
   "source": [
    "import os\n",
    "import json\n",
    "import posixpath\n",
    "import requests\n",
    "from PIL import Image\n",
    "\n",
    "import pandas as pd\n",
    "import numpy as np\n",
    "\n",
    "import pprint\n",
    "import boto3\n",
    "import sagemaker"
   ]
  },
  {
   "cell_type": "markdown",
   "metadata": {},
   "source": [
    "# Set Up"
   ]
  },
  {
   "cell_type": "markdown",
   "metadata": {},
   "source": [
    "## Global Parameters"
   ]
  },
  {
   "cell_type": "code",
   "execution_count": 48,
   "metadata": {},
   "outputs": [],
   "source": [
    "# Define Region\n",
    "region = \"us-east-1\"\n",
    "\n",
    "# Define Bucket\n",
    "bucket = \"dsba-6190-final-team-project\"\n",
    "key_level_1 = \"imgs\"\n",
    "key_level_2 = \"test\"\n",
    "\n",
    "# Define Endpoint\n",
    "endpoint_name = 'image-classification-drivers-endpoint'"
   ]
  },
  {
   "cell_type": "markdown",
   "metadata": {},
   "source": [
    "## AWS Functions"
   ]
  },
  {
   "cell_type": "code",
   "execution_count": 49,
   "metadata": {},
   "outputs": [],
   "source": [
    "# Establish Boto3 Session\n",
    "boto_sess = boto3.session.Session(region_name=region)\n",
    "\n",
    "# Invoke SageMaker Runtime Client\n",
    "runtime = boto_sess.client(service_name='runtime.sagemaker')\n",
    "\n",
    "# Invoke S3 Client\n",
    "s3_client = boto_sess.client(service_name='s3')\n",
    "\n",
    "# Invoke S3 Resource\n",
    "s3_res = boto_sess.resource('s3')"
   ]
  },
  {
   "cell_type": "markdown",
   "metadata": {},
   "source": [
    "# Import Test Images\n",
    "The test images are located in the project S3 Bucket, under with the key prefix **imgs/test**."
   ]
  },
  {
   "cell_type": "markdown",
   "metadata": {},
   "source": [
    "## Generate List of Images\n",
    "First, we create a list of all objects in the project bucket, under prefix **imgs/test**. "
   ]
  },
  {
   "cell_type": "code",
   "execution_count": 50,
   "metadata": {},
   "outputs": [],
   "source": [
    "s3_list_obj_param = {\n",
    "    \"Bucket\" : bucket,\n",
    "    \"Prefix\" : posixpath.join(key_level_1, key_level_2)\n",
    "}\n",
    "\n",
    "response = s3_client.list_objects_v2(**s3_list_obj_param)"
   ]
  },
  {
   "cell_type": "markdown",
   "metadata": {},
   "source": [
    "The initial call returns a large amount of metadata we are not interested in. So we strip it down to just the contents of the the list. The contents still encapsulate a dictionary of file name and additional metadata. So we further strip this down to only extract the file names, aka, the value associated with the key.\n",
    "\n",
    "We also add a filter to ensure all the contents we are collecting are JPG images."
   ]
  },
  {
   "cell_type": "code",
   "execution_count": 51,
   "metadata": {},
   "outputs": [
    {
     "name": "stdout",
     "output_type": "stream",
     "text": [
      "['imgs/test/img_1.jpg', 'imgs/test/img_10.jpg', 'imgs/test/img_100.jpg', 'imgs/test/img_1000.jpg', 'imgs/test/img_100000.jpg']\n"
     ]
    }
   ],
   "source": [
    "# Extract Contents from Item Search Response\n",
    "test_imgs_contents = response['Contents']\n",
    "\n",
    "# Initialize List of Test Images\n",
    "test_imgs_list = []\n",
    "\n",
    "# Append Keys for Test Images\n",
    "for item in test_imgs_contents:\n",
    "    for key, value in item.items():\n",
    "        if key == 'Key' and 'jpg' in value:\n",
    "            test_imgs_list.append(value)\n",
    "            \n",
    "# Inspect initial images in list to ensure proper execution            \n",
    "print(test_imgs_list[:5])"
   ]
  },
  {
   "cell_type": "code",
   "execution_count": 52,
   "metadata": {},
   "outputs": [],
   "source": [
    "file_name = \"img_test/test_image.jpg\"\n",
    "s3_res.Bucket(bucket).download_file(test_imgs_list[5], file_name)"
   ]
  },
  {
   "cell_type": "code",
   "execution_count": 53,
   "metadata": {},
   "outputs": [],
   "source": [
    "with open(file_name, 'rb') as f:\n",
    "    payload = f.read()\n",
    "    payload = bytearray(payload)"
   ]
  },
  {
   "cell_type": "code",
   "execution_count": 54,
   "metadata": {},
   "outputs": [
    {
     "name": "stdout",
     "output_type": "stream",
     "text": [
      "[0.00036428458406589925,\n",
      " 0.0017996972892433405,\n",
      " 0.0003498703008517623,\n",
      " 0.92418372631073,\n",
      " 0.0067366985604166985,\n",
      " 0.0011239186860620975,\n",
      " 0.04217714071273804,\n",
      " 0.013772956095635891,\n",
      " 0.009061269462108612,\n",
      " 0.00043045292841270566]\n"
     ]
    }
   ],
   "source": [
    "try: \n",
    "    response = runtime.invoke_endpoint(EndpointName=endpoint_name, \n",
    "                                       ContentType='application/x-image', \n",
    "                                       Body=payload)\n",
    "    result = response['Body'].read()\n",
    "    result = json.loads(result)\n",
    "    pprint.pprint(result)\n",
    "\n",
    "except:\n",
    "        print(\"Error Raised. Check status of endpoint.\")"
   ]
  },
  {
   "cell_type": "markdown",
   "metadata": {},
   "source": [
    "# Test REST API\n",
    "We want to test that our REST API is up and running. If we POST the REST API an image, we should recieve a JSON back, with a list of the probabilies of the image for each class.\n",
    "\n",
    "First we define some of the variables."
   ]
  },
  {
   "cell_type": "code",
   "execution_count": 55,
   "metadata": {},
   "outputs": [],
   "source": [
    "host_url = \"https://96gfw8ry96.execute-api.us-east-1.amazonaws.com\"\n",
    "page = \"Test/predict\"\n",
    "headers = {\n",
    "    \"Content-Type\": \"image/jpg\"\n",
    "}"
   ]
  },
  {
   "cell_type": "markdown",
   "metadata": {},
   "source": [
    "POST Inputs."
   ]
  },
  {
   "cell_type": "code",
   "execution_count": 57,
   "metadata": {},
   "outputs": [],
   "source": [
    "# Image to POST\n",
    "data = open(file_name,'rb').read()\n",
    "\n",
    "# POST Location\n",
    "url = posixpath.join(host_url, page)"
   ]
  },
  {
   "cell_type": "markdown",
   "metadata": {},
   "source": [
    "POST API"
   ]
  },
  {
   "cell_type": "code",
   "execution_count": 58,
   "metadata": {},
   "outputs": [
    {
     "name": "stdout",
     "output_type": "stream",
     "text": [
      "{'payload': [0.00036428458406589925,\n",
      "             0.0017996972892433405,\n",
      "             0.0003498703008517623,\n",
      "             0.92418372631073,\n",
      "             0.0067366985604166985,\n",
      "             0.0011239186860620975,\n",
      "             0.04217714071273804,\n",
      "             0.013772956095635891,\n",
      "             0.009061269462108612,\n",
      "             0.00043045292841270566]}\n"
     ]
    }
   ],
   "source": [
    "try:\n",
    "    response = requests.post(url=url,\n",
    "                             data=data, \n",
    "                             headers=headers)\n",
    "\n",
    "    #Response Output\n",
    "    result = json.loads(response.text)\n",
    "    pprint.pprint(result)\n",
    "    \n",
    "except:\n",
    "    print(\"Error Raised. Check status of REST API and SageMaker Endpoint.\")"
   ]
  }
 ],
 "metadata": {
  "kernelspec": {
   "display_name": "Python 3",
   "language": "python",
   "name": "python3"
  },
  "language_info": {
   "codemirror_mode": {
    "name": "ipython",
    "version": 3
   },
   "file_extension": ".py",
   "mimetype": "text/x-python",
   "name": "python",
   "nbconvert_exporter": "python",
   "pygments_lexer": "ipython3",
   "version": "3.6.10"
  }
 },
 "nbformat": 4,
 "nbformat_minor": 4
}
