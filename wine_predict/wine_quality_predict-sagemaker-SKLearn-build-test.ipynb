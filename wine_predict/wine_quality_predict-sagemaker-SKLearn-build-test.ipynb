{
 "cells": [
  {
   "cell_type": "markdown",
   "metadata": {
    "colab_type": "text",
    "id": "alglaq7Y9C0b"
   },
   "source": [
    "This notebook was modified from the DSBA-6190 Project 2 notebook to incorporate use of Amazon Sagemaker.\n",
    "\n",
    "The Wine Quality Dataset (https://archive.ics.uci.edu/ml/datasets/Wine+Quality) was used as the data input. Several regression models were generated, using the provided data to predict red wine quality."
   ]
  },
  {
   "cell_type": "markdown",
   "metadata": {
    "colab_type": "text",
    "id": "Uo373A1_9FTZ"
   },
   "source": [
    "# Import"
   ]
  },
  {
   "cell_type": "markdown",
   "metadata": {},
   "source": [
    "## Libraries / Packages"
   ]
  },
  {
   "cell_type": "code",
   "execution_count": 44,
   "metadata": {
    "colab": {},
    "colab_type": "code",
    "id": "CGGFiIGm9KQ9"
   },
   "outputs": [],
   "source": [
    "# General\n",
    "import pandas as pd\n",
    "import numpy as np\n",
    "\n",
    "import os\n",
    "import tarfile\n",
    "import datetime\n",
    "\n",
    "#SageMaker\n",
    "import boto3\n",
    "import io\n",
    "import sagemaker\n",
    "from sagemaker import get_execution_role\n",
    "from sagemaker.sklearn.processing import SKLearnProcessor\n",
    "from sagemaker.processing import ProcessingInput, ProcessingOutput\n",
    "from sagemaker.sklearn.estimator import SKLearn\n",
    "from sagemaker.tuner import IntegerParameter, CategoricalParameter\n",
    "\n",
    "# Data Preparation\n",
    "from sklearn.model_selection import train_test_split\n",
    "from sklearn.preprocessing import StandardScaler\n",
    "\n",
    "# Modeling\n",
    "from sklearn.ensemble import RandomForestRegressor\n",
    "\n",
    "# Output\n",
    "from sklearn.metrics import mean_squared_error,r2_score\n",
    "\n",
    "# Export\n",
    "from sklearn.externals import joblib\n",
    "\n",
    "seed = 5590"
   ]
  },
  {
   "cell_type": "markdown",
   "metadata": {
    "colab_type": "text",
    "id": "edWJ_dU8Cz1r"
   },
   "source": [
    "## Sagemaker Settings"
   ]
  },
  {
   "cell_type": "code",
   "execution_count": 88,
   "metadata": {},
   "outputs": [
    {
     "name": "stdout",
     "output_type": "stream",
     "text": [
      "Region: us-east-1\n",
      "Role: arn:aws:iam::726963482731:role/service-role/AmazonSageMaker-ExecutionRole-20200222T172260\n",
      "<botocore.client.SageMaker object at 0x7f4f28ec37f0>\n"
     ]
    }
   ],
   "source": [
    "region = boto3.session.Session().region_name\n",
    "print('Region: {}'.format(region))\n",
    "\n",
    "role = get_execution_role()\n",
    "print('Role: {}'.format(role))\n",
    "\n",
    "sm_boto3 = boto3.client('sagemaker')\n",
    "print(sm_boto3)"
   ]
  },
  {
   "cell_type": "markdown",
   "metadata": {},
   "source": [
    "## Data"
   ]
  },
  {
   "cell_type": "markdown",
   "metadata": {},
   "source": [
    "Initialize the S3 connection and name the target bucket."
   ]
  },
  {
   "cell_type": "code",
   "execution_count": 3,
   "metadata": {},
   "outputs": [],
   "source": [
    "s3_client = boto3.client('s3')\n",
    "data_bucket_name='dsba-6190-final-team-project'"
   ]
  },
  {
   "cell_type": "markdown",
   "metadata": {},
   "source": [
    "Check the contents of the bucket, and assign the import data file path and name to the variable **file_data**."
   ]
  },
  {
   "cell_type": "code",
   "execution_count": 4,
   "metadata": {},
   "outputs": [
    {
     "name": "stdout",
     "output_type": "stream",
     "text": [
      "['data/', 'data/winequality-red.csv']\n"
     ]
    }
   ],
   "source": [
    "obj_list=s3_client.list_objects(Bucket=data_bucket_name)\n",
    "file=[]\n",
    "for contents in obj_list['Contents']:\n",
    "    file.append(contents['Key'])\n",
    "print(file)\n",
    "file_data=file[1]"
   ]
  },
  {
   "cell_type": "code",
   "execution_count": 5,
   "metadata": {},
   "outputs": [
    {
     "data": {
      "text/plain": [
       "'data/winequality-red.csv'"
      ]
     },
     "execution_count": 5,
     "metadata": {},
     "output_type": "execute_result"
    }
   ],
   "source": [
    "file_data"
   ]
  },
  {
   "cell_type": "markdown",
   "metadata": {},
   "source": [
    "Import the data into the variable **response_body** then read into a dataframe."
   ]
  },
  {
   "cell_type": "code",
   "execution_count": 6,
   "metadata": {},
   "outputs": [
    {
     "name": "stdout",
     "output_type": "stream",
     "text": [
      "['ResponseMetadata', 'AcceptRanges', 'LastModified', 'ContentLength', 'ETag', 'ContentType', 'Metadata', 'Body']\n"
     ]
    }
   ],
   "source": [
    "response = s3_client.get_object(Bucket=data_bucket_name, Key=file_data)\n",
    "print(list(response))\n",
    "response_body = response['Body'].read()\n",
    "df_wine_red = pd.read_csv(io.BytesIO(response_body), header=0, delimiter=\";\", low_memory=False) "
   ]
  },
  {
   "cell_type": "markdown",
   "metadata": {},
   "source": [
    "# Preprocessing"
   ]
  },
  {
   "cell_type": "markdown",
   "metadata": {},
   "source": [
    "We need to define input file as a string to the S3 bucket location for the SKLearn process to be able to call."
   ]
  },
  {
   "cell_type": "code",
   "execution_count": 7,
   "metadata": {
    "scrolled": true
   },
   "outputs": [
    {
     "name": "stdout",
     "output_type": "stream",
     "text": [
      "The input data is found at the following path: s3://dsba-6190-final-team-project/data/winequality-red.csv\n",
      "Shape of Verification Dataframe: (5, 12)\n"
     ]
    },
    {
     "data": {
      "text/html": [
       "<div>\n",
       "<style scoped>\n",
       "    .dataframe tbody tr th:only-of-type {\n",
       "        vertical-align: middle;\n",
       "    }\n",
       "\n",
       "    .dataframe tbody tr th {\n",
       "        vertical-align: top;\n",
       "    }\n",
       "\n",
       "    .dataframe thead th {\n",
       "        text-align: right;\n",
       "    }\n",
       "</style>\n",
       "<table border=\"1\" class=\"dataframe\">\n",
       "  <thead>\n",
       "    <tr style=\"text-align: right;\">\n",
       "      <th></th>\n",
       "      <th>fixed acidity</th>\n",
       "      <th>volatile acidity</th>\n",
       "      <th>citric acid</th>\n",
       "      <th>residual sugar</th>\n",
       "      <th>chlorides</th>\n",
       "      <th>free sulfur dioxide</th>\n",
       "      <th>total sulfur dioxide</th>\n",
       "      <th>density</th>\n",
       "      <th>pH</th>\n",
       "      <th>sulphates</th>\n",
       "      <th>alcohol</th>\n",
       "      <th>quality</th>\n",
       "    </tr>\n",
       "  </thead>\n",
       "  <tbody>\n",
       "    <tr>\n",
       "      <th>0</th>\n",
       "      <td>7.4</td>\n",
       "      <td>0.70</td>\n",
       "      <td>0.00</td>\n",
       "      <td>1.9</td>\n",
       "      <td>0.076</td>\n",
       "      <td>11</td>\n",
       "      <td>34</td>\n",
       "      <td>0.9978</td>\n",
       "      <td>3.51</td>\n",
       "      <td>0.56</td>\n",
       "      <td>9.4</td>\n",
       "      <td>5</td>\n",
       "    </tr>\n",
       "    <tr>\n",
       "      <th>1</th>\n",
       "      <td>7.8</td>\n",
       "      <td>0.88</td>\n",
       "      <td>0.00</td>\n",
       "      <td>2.6</td>\n",
       "      <td>0.098</td>\n",
       "      <td>25</td>\n",
       "      <td>67</td>\n",
       "      <td>0.9968</td>\n",
       "      <td>3.20</td>\n",
       "      <td>0.68</td>\n",
       "      <td>9.8</td>\n",
       "      <td>5</td>\n",
       "    </tr>\n",
       "    <tr>\n",
       "      <th>2</th>\n",
       "      <td>7.8</td>\n",
       "      <td>0.76</td>\n",
       "      <td>0.04</td>\n",
       "      <td>2.3</td>\n",
       "      <td>0.092</td>\n",
       "      <td>15</td>\n",
       "      <td>54</td>\n",
       "      <td>0.9970</td>\n",
       "      <td>3.26</td>\n",
       "      <td>0.65</td>\n",
       "      <td>9.8</td>\n",
       "      <td>5</td>\n",
       "    </tr>\n",
       "    <tr>\n",
       "      <th>3</th>\n",
       "      <td>11.2</td>\n",
       "      <td>0.28</td>\n",
       "      <td>0.56</td>\n",
       "      <td>1.9</td>\n",
       "      <td>0.075</td>\n",
       "      <td>17</td>\n",
       "      <td>60</td>\n",
       "      <td>0.9980</td>\n",
       "      <td>3.16</td>\n",
       "      <td>0.58</td>\n",
       "      <td>9.8</td>\n",
       "      <td>6</td>\n",
       "    </tr>\n",
       "    <tr>\n",
       "      <th>4</th>\n",
       "      <td>7.4</td>\n",
       "      <td>0.70</td>\n",
       "      <td>0.00</td>\n",
       "      <td>1.9</td>\n",
       "      <td>0.076</td>\n",
       "      <td>11</td>\n",
       "      <td>34</td>\n",
       "      <td>0.9978</td>\n",
       "      <td>3.51</td>\n",
       "      <td>0.56</td>\n",
       "      <td>9.4</td>\n",
       "      <td>5</td>\n",
       "    </tr>\n",
       "  </tbody>\n",
       "</table>\n",
       "</div>"
      ],
      "text/plain": [
       "   fixed acidity  volatile acidity  citric acid  residual sugar  chlorides  \\\n",
       "0            7.4              0.70         0.00             1.9      0.076   \n",
       "1            7.8              0.88         0.00             2.6      0.098   \n",
       "2            7.8              0.76         0.04             2.3      0.092   \n",
       "3           11.2              0.28         0.56             1.9      0.075   \n",
       "4            7.4              0.70         0.00             1.9      0.076   \n",
       "\n",
       "   free sulfur dioxide  total sulfur dioxide  density    pH  sulphates  \\\n",
       "0                   11                    34   0.9978  3.51       0.56   \n",
       "1                   25                    67   0.9968  3.20       0.68   \n",
       "2                   15                    54   0.9970  3.26       0.65   \n",
       "3                   17                    60   0.9980  3.16       0.58   \n",
       "4                   11                    34   0.9978  3.51       0.56   \n",
       "\n",
       "   alcohol  quality  \n",
       "0      9.4        5  \n",
       "1      9.8        5  \n",
       "2      9.8        5  \n",
       "3      9.8        6  \n",
       "4      9.4        5  "
      ]
     },
     "execution_count": 7,
     "metadata": {},
     "output_type": "execute_result"
    }
   ],
   "source": [
    "# Input File Path Check\n",
    "input_data = 's3://dsba-6190-final-team-project/data/winequality-red.csv'.format(region)"
   ]
  },
  {
   "cell_type": "markdown",
   "metadata": {},
   "source": [
    "## Preprocessing"
   ]
  },
  {
   "cell_type": "code",
   "execution_count": 14,
   "metadata": {},
   "outputs": [],
   "source": [
    "#Initialize SKLearn Preprocessing Function\n",
    "sklearn_processor = SKLearnProcessor(framework_version='0.20.0',\n",
    "                                     role=role, \n",
    "                                     base_job_name = \"scikit-preprocessing\",\n",
    "                                     instance_type='ml.m4.xlarge',\n",
    "                                     instance_count=1)"
   ]
  },
  {
   "cell_type": "markdown",
   "metadata": {},
   "source": [
    "### Preprocessing Script\n",
    "The following script is used to run the preproocessing stage."
   ]
  },
  {
   "cell_type": "code",
   "execution_count": 12,
   "metadata": {},
   "outputs": [
    {
     "name": "stdout",
     "output_type": "stream",
     "text": [
      "Overwriting preprocessing.py\n"
     ]
    }
   ],
   "source": [
    "%%writefile preprocessing.py\n",
    "\n",
    "import argparse\n",
    "import os\n",
    "import warnings\n",
    "\n",
    "import pandas as pd\n",
    "from sklearn.model_selection import train_test_split\n",
    "from sklearn.preprocessing import StandardScaler\n",
    "\n",
    "from sklearn.exceptions import DataConversionWarning\n",
    "warnings.filterwarnings(action='ignore', category=DataConversionWarning)\n",
    "\n",
    "seed = 5590\n",
    "\n",
    "if __name__=='__main__':\n",
    "    parser = argparse.ArgumentParser()\n",
    "    parser.add_argument('--train-test-split-ratio', type=float, default=0.2)\n",
    "    args, _ = parser.parse_known_args()\n",
    "    \n",
    "    print('Received arguments {}'.format(args))\n",
    "    \n",
    "    input_data_path = os.path.join('/opt/ml/processing/input', 'winequality-red.csv')\n",
    "    \n",
    "    print('Reading input data from {}'.format(input_data_path))\n",
    "    df = pd.read_csv(input_data_path, header=0, delimiter=\";\", low_memory=False)\n",
    "    \n",
    "      \n",
    "    split_ratio = args.train_test_split_ratio\n",
    "    \n",
    "    print('Splitting data into train and test sets with ratio {}'.format(split_ratio))\n",
    "    \n",
    "    #Split Data into training / test\n",
    "    X_train, X_test, y_train, y_test = train_test_split(df.drop('quality', axis=1), \n",
    "                                                        df['quality'], \n",
    "                                                        test_size=split_ratio, \n",
    "                                                        random_state=seed)\n",
    "    \n",
    "    # Transform Features\n",
    "    scaler = StandardScaler().fit(X_train)\n",
    "    train_features = scaler.transform(X_train)\n",
    "    test_features = scaler.transform(X_test)\n",
    "    \n",
    "    # Convert Data to Float32\n",
    "    train_features = train_features.astype('float32')\n",
    "    test_features = test_features.astype('float32')\n",
    "    \n",
    "    # Create local output directories\n",
    "    try:\n",
    "        os.makedirs('/opt/ml/processing/output/train')\n",
    "        os.makedirs('/opt/ml/processing/output/test')\n",
    "    except:\n",
    "        pass\n",
    "    \n",
    "    print('Train Features shape after preprocessing: {}'.format(train_features.shape))\n",
    "    print('Train Labels shape after preprocessing: {}'.format(y_train.shape))\n",
    "    print('Test Features shape after preprocessing: {}'.format(test_features.shape))\n",
    "    print('Test Labels shape after preprocessing: {}'.format(y_test.shape))\n",
    "    \n",
    "    train_features_output_path = os.path.join('/opt/ml/processing/output/train', 'train_features.csv')\n",
    "    train_labels_output_path = os.path.join('/opt/ml/processing/output/train', 'train_labels.csv')\n",
    "    \n",
    "    test_features_output_path = os.path.join('/opt/ml/processing/output/test', 'test_features.csv')\n",
    "    test_labels_output_path = os.path.join('/opt/ml/processing/output/test', 'test_labels.csv')\n",
    "    \n",
    "    print('Saving training features to {}'.format(train_features_output_path))\n",
    "    pd.DataFrame(train_features).to_csv(train_features_output_path, header= False, index=False)\n",
    "    \n",
    "    print('Saving test features to {}'.format(test_features_output_path))\n",
    "    pd.DataFrame(test_features).to_csv(test_features_output_path, header=False, index=False)\n",
    "    \n",
    "    print('Saving training labels to {}'.format(train_labels_output_path))\n",
    "    y_train.to_csv(train_labels_output_path, header=False, index=False)\n",
    "    \n",
    "    print('Saving test labels to {}'.format(test_labels_output_path))\n",
    "    y_test.to_csv(test_labels_output_path, header=False, index=False)"
   ]
  },
  {
   "cell_type": "markdown",
   "metadata": {},
   "source": [
    "The preprocessing script can now be run with the SKLearnProcessor.run() method. "
   ]
  },
  {
   "cell_type": "code",
   "execution_count": 52,
   "metadata": {},
   "outputs": [],
   "source": [
    "hyperparameters = {\n",
    "    'train-test-split-ratio': 0.25\n",
    "}"
   ]
  },
  {
   "cell_type": "code",
   "execution_count": 53,
   "metadata": {},
   "outputs": [
    {
     "data": {
      "text/plain": [
       "{'train-test-split-ratio': 0.3}"
      ]
     },
     "execution_count": 53,
     "metadata": {},
     "output_type": "execute_result"
    }
   ],
   "source": [
    "hyperparameters"
   ]
  },
  {
   "cell_type": "code",
   "execution_count": 15,
   "metadata": {},
   "outputs": [
    {
     "name": "stdout",
     "output_type": "stream",
     "text": [
      "\n",
      "Job Name:  rf-scikit-preprocessing-2020-02-29-12-45-13-372\n",
      "Inputs:  [{'InputName': 'input-1', 'S3Input': {'S3Uri': 's3://dsba-6190-final-team-project/data/winequality-red.csv', 'LocalPath': '/opt/ml/processing/input', 'S3DataType': 'S3Prefix', 'S3InputMode': 'File', 'S3DataDistributionType': 'FullyReplicated', 'S3CompressionType': 'None'}}, {'InputName': 'code', 'S3Input': {'S3Uri': 's3://sagemaker-us-east-1-726963482731/rf-scikit-preprocessing-2020-02-29-12-45-13-372/input/code/preprocessing.py', 'LocalPath': '/opt/ml/processing/input/code', 'S3DataType': 'S3Prefix', 'S3InputMode': 'File', 'S3DataDistributionType': 'FullyReplicated', 'S3CompressionType': 'None'}}]\n",
      "Outputs:  [{'OutputName': 'train_data', 'S3Output': {'S3Uri': 's3://sagemaker-us-east-1-726963482731/rf-scikit-preprocessing-2020-02-29-12-45-13-372/output/train_data', 'LocalPath': '/opt/ml/processing/output/train', 'S3UploadMode': 'EndOfJob'}}, {'OutputName': 'test_data', 'S3Output': {'S3Uri': 's3://sagemaker-us-east-1-726963482731/rf-scikit-preprocessing-2020-02-29-12-45-13-372/output/test_data', 'LocalPath': '/opt/ml/processing/output/test', 'S3UploadMode': 'EndOfJob'}}]\n",
      ".............................\u001b[34m/miniconda3/lib/python3.7/site-packages/sklearn/externals/joblib/externals/cloudpickle/cloudpickle.py:47: DeprecationWarning: the imp module is deprecated in favour of importlib; see the module's documentation for alternative uses\n",
      "  import imp\u001b[0m\n",
      "\u001b[34mReceived arguments Namespace(train_test_split_ratio=0.3)\u001b[0m\n",
      "\u001b[34mReading input data from /opt/ml/processing/input/winequality-red.csv\u001b[0m\n",
      "\u001b[34mSplitting data into train and test sets with ratio 0.3\u001b[0m\n",
      "\u001b[34mTrain Features shape after preprocessing: (1119, 11)\u001b[0m\n",
      "\u001b[34mTrain Labels shape after preprocessing: (1119,)\u001b[0m\n",
      "\u001b[34mTest Features shape after preprocessing: (480, 11)\u001b[0m\n",
      "\u001b[34mTest Labels shape after preprocessing: (480,)\u001b[0m\n",
      "\u001b[34mSaving training features to /opt/ml/processing/output/train/train_features.csv\u001b[0m\n",
      "\u001b[34mSaving test features to /opt/ml/processing/output/test/test_features.csv\u001b[0m\n",
      "\u001b[34mSaving training labels to /opt/ml/processing/output/train/train_labels.csv\u001b[0m\n",
      "\u001b[34mSaving test labels to /opt/ml/processing/output/test/test_labels.csv\u001b[0m\n",
      "\n"
     ]
    }
   ],
   "source": [
    "sklearn_processor.run(code='preprocessing.py',\n",
    "                      arguments=['--train-test-split-ratio', '0.3'],\n",
    "                      inputs=[ProcessingInput(\n",
    "                        source=input_data,\n",
    "                        destination='/opt/ml/processing/input')],\n",
    "                      outputs=[ProcessingOutput(output_name='train_data',\n",
    "                                                source='/opt/ml/processing/output/train'),\n",
    "                               ProcessingOutput(output_name='test_data',\n",
    "                                                source='/opt/ml/processing/output/test')]\n",
    "                     )\n",
    "\n",
    "preprocessing_job_description = sklearn_processor.jobs[-1].describe()\n",
    "\n",
    "output_config = preprocessing_job_description['ProcessingOutputConfig']\n",
    "for output in output_config['Outputs']:\n",
    "    if output['OutputName'] == 'train_data':\n",
    "        preprocessed_training_data = output['S3Output']['S3Uri']\n",
    "    if output['OutputName'] == 'test_data':\n",
    "        preprocessed_test_data = output['S3Output']['S3Uri']"
   ]
  },
  {
   "cell_type": "markdown",
   "metadata": {},
   "source": [
    "### Check Preprocessing Outputs"
   ]
  },
  {
   "cell_type": "code",
   "execution_count": 16,
   "metadata": {},
   "outputs": [
    {
     "data": {
      "text/plain": [
       "{'Outputs': [{'OutputName': 'train_data',\n",
       "   'S3Output': {'S3Uri': 's3://sagemaker-us-east-1-726963482731/rf-scikit-preprocessing-2020-02-29-12-45-13-372/output/train_data',\n",
       "    'LocalPath': '/opt/ml/processing/output/train',\n",
       "    'S3UploadMode': 'EndOfJob'}},\n",
       "  {'OutputName': 'test_data',\n",
       "   'S3Output': {'S3Uri': 's3://sagemaker-us-east-1-726963482731/rf-scikit-preprocessing-2020-02-29-12-45-13-372/output/test_data',\n",
       "    'LocalPath': '/opt/ml/processing/output/test',\n",
       "    'S3UploadMode': 'EndOfJob'}}]}"
      ]
     },
     "execution_count": 16,
     "metadata": {},
     "output_type": "execute_result"
    }
   ],
   "source": [
    "#output_config"
   ]
  },
  {
   "cell_type": "markdown",
   "metadata": {},
   "source": [
    "Check to see that the training features were processed."
   ]
  },
  {
   "cell_type": "code",
   "execution_count": 17,
   "metadata": {},
   "outputs": [
    {
     "name": "stdout",
     "output_type": "stream",
     "text": [
      "Training features shape: (5, 11)\n"
     ]
    },
    {
     "data": {
      "text/html": [
       "<div>\n",
       "<style scoped>\n",
       "    .dataframe tbody tr th:only-of-type {\n",
       "        vertical-align: middle;\n",
       "    }\n",
       "\n",
       "    .dataframe tbody tr th {\n",
       "        vertical-align: top;\n",
       "    }\n",
       "\n",
       "    .dataframe thead th {\n",
       "        text-align: right;\n",
       "    }\n",
       "</style>\n",
       "<table border=\"1\" class=\"dataframe\">\n",
       "  <thead>\n",
       "    <tr style=\"text-align: right;\">\n",
       "      <th></th>\n",
       "      <th>0</th>\n",
       "      <th>1</th>\n",
       "      <th>2</th>\n",
       "      <th>3</th>\n",
       "      <th>4</th>\n",
       "      <th>5</th>\n",
       "      <th>6</th>\n",
       "      <th>7</th>\n",
       "      <th>8</th>\n",
       "      <th>9</th>\n",
       "      <th>10</th>\n",
       "    </tr>\n",
       "  </thead>\n",
       "  <tbody>\n",
       "    <tr>\n",
       "      <th>0</th>\n",
       "      <td>0.489548</td>\n",
       "      <td>-0.961003</td>\n",
       "      <td>0.659811</td>\n",
       "      <td>-0.499674</td>\n",
       "      <td>-0.588405</td>\n",
       "      <td>0.493872</td>\n",
       "      <td>0.295467</td>\n",
       "      <td>-0.919712</td>\n",
       "      <td>-0.873225</td>\n",
       "      <td>0.963819</td>\n",
       "      <td>0.517527</td>\n",
       "    </tr>\n",
       "    <tr>\n",
       "      <th>1</th>\n",
       "      <td>-0.268860</td>\n",
       "      <td>0.191906</td>\n",
       "      <td>0.245717</td>\n",
       "      <td>-0.499674</td>\n",
       "      <td>-0.393727</td>\n",
       "      <td>0.969920</td>\n",
       "      <td>2.319748</td>\n",
       "      <td>-0.234313</td>\n",
       "      <td>-0.160127</td>\n",
       "      <td>-0.768973</td>\n",
       "      <td>-1.045407</td>\n",
       "    </tr>\n",
       "    <tr>\n",
       "      <th>2</th>\n",
       "      <td>-0.152182</td>\n",
       "      <td>-0.082596</td>\n",
       "      <td>-1.203608</td>\n",
       "      <td>-0.567101</td>\n",
       "      <td>-0.372096</td>\n",
       "      <td>-0.553431</td>\n",
       "      <td>-0.327389</td>\n",
       "      <td>-0.497928</td>\n",
       "      <td>0.164009</td>\n",
       "      <td>-0.529967</td>\n",
       "      <td>-0.401846</td>\n",
       "    </tr>\n",
       "    <tr>\n",
       "      <th>3</th>\n",
       "      <td>-0.735573</td>\n",
       "      <td>0.850711</td>\n",
       "      <td>-0.996562</td>\n",
       "      <td>-0.027688</td>\n",
       "      <td>0.082155</td>\n",
       "      <td>-0.077384</td>\n",
       "      <td>-0.763388</td>\n",
       "      <td>-0.513745</td>\n",
       "      <td>0.423317</td>\n",
       "      <td>-0.350713</td>\n",
       "      <td>0.793339</td>\n",
       "    </tr>\n",
       "    <tr>\n",
       "      <th>4</th>\n",
       "      <td>-0.560555</td>\n",
       "      <td>-0.302198</td>\n",
       "      <td>0.297479</td>\n",
       "      <td>-0.297394</td>\n",
       "      <td>-0.545143</td>\n",
       "      <td>1.445967</td>\n",
       "      <td>0.264324</td>\n",
       "      <td>0.308733</td>\n",
       "      <td>-0.095300</td>\n",
       "      <td>-0.051955</td>\n",
       "      <td>-0.401846</td>\n",
       "    </tr>\n",
       "  </tbody>\n",
       "</table>\n",
       "</div>"
      ],
      "text/plain": [
       "         0         1         2         3         4         5         6   \\\n",
       "0  0.489548 -0.961003  0.659811 -0.499674 -0.588405  0.493872  0.295467   \n",
       "1 -0.268860  0.191906  0.245717 -0.499674 -0.393727  0.969920  2.319748   \n",
       "2 -0.152182 -0.082596 -1.203608 -0.567101 -0.372096 -0.553431 -0.327389   \n",
       "3 -0.735573  0.850711 -0.996562 -0.027688  0.082155 -0.077384 -0.763388   \n",
       "4 -0.560555 -0.302198  0.297479 -0.297394 -0.545143  1.445967  0.264324   \n",
       "\n",
       "         7         8         9         10  \n",
       "0 -0.919712 -0.873225  0.963819  0.517527  \n",
       "1 -0.234313 -0.160127 -0.768973 -1.045407  \n",
       "2 -0.497928  0.164009 -0.529967 -0.401846  \n",
       "3 -0.513745  0.423317 -0.350713  0.793339  \n",
       "4  0.308733 -0.095300 -0.051955 -0.401846  "
      ]
     },
     "execution_count": 17,
     "metadata": {},
     "output_type": "execute_result"
    }
   ],
   "source": [
    "'''\n",
    "training_features = pd.read_csv(preprocessed_training_data + '/train_features.csv', nrows=5,  header=None)\n",
    "print('Training features shape: {}'.format(training_features.shape))\n",
    "training_features"
   ]
  },
  {
   "cell_type": "code",
   "execution_count": 18,
   "metadata": {},
   "outputs": [
    {
     "name": "stdout",
     "output_type": "stream",
     "text": [
      "Training labels shape: (5, 1)\n"
     ]
    },
    {
     "data": {
      "text/html": [
       "<div>\n",
       "<style scoped>\n",
       "    .dataframe tbody tr th:only-of-type {\n",
       "        vertical-align: middle;\n",
       "    }\n",
       "\n",
       "    .dataframe tbody tr th {\n",
       "        vertical-align: top;\n",
       "    }\n",
       "\n",
       "    .dataframe thead th {\n",
       "        text-align: right;\n",
       "    }\n",
       "</style>\n",
       "<table border=\"1\" class=\"dataframe\">\n",
       "  <thead>\n",
       "    <tr style=\"text-align: right;\">\n",
       "      <th></th>\n",
       "      <th>0</th>\n",
       "    </tr>\n",
       "  </thead>\n",
       "  <tbody>\n",
       "    <tr>\n",
       "      <th>0</th>\n",
       "      <td>7</td>\n",
       "    </tr>\n",
       "    <tr>\n",
       "      <th>1</th>\n",
       "      <td>5</td>\n",
       "    </tr>\n",
       "    <tr>\n",
       "      <th>2</th>\n",
       "      <td>5</td>\n",
       "    </tr>\n",
       "    <tr>\n",
       "      <th>3</th>\n",
       "      <td>6</td>\n",
       "    </tr>\n",
       "    <tr>\n",
       "      <th>4</th>\n",
       "      <td>7</td>\n",
       "    </tr>\n",
       "  </tbody>\n",
       "</table>\n",
       "</div>"
      ],
      "text/plain": [
       "   0\n",
       "0  7\n",
       "1  5\n",
       "2  5\n",
       "3  6\n",
       "4  7"
      ]
     },
     "execution_count": 18,
     "metadata": {},
     "output_type": "execute_result"
    }
   ],
   "source": [
    "'''\n",
    "training_labels = pd.read_csv(preprocessed_training_data + '/train_labels.csv', nrows=5,  header=None)\n",
    "print('Training labels shape: {}'.format(training_labels.shape))\n",
    "training_labels"
   ]
  },
  {
   "cell_type": "code",
   "execution_count": 19,
   "metadata": {},
   "outputs": [
    {
     "name": "stdout",
     "output_type": "stream",
     "text": [
      "The Training Data Features Dataframe has the following shape: (1119, 11)\n",
      "The Training Data Features Numpy Array has the following shape: (1119, 11)\n"
     ]
    },
    {
     "data": {
      "text/html": [
       "<div>\n",
       "<style scoped>\n",
       "    .dataframe tbody tr th:only-of-type {\n",
       "        vertical-align: middle;\n",
       "    }\n",
       "\n",
       "    .dataframe tbody tr th {\n",
       "        vertical-align: top;\n",
       "    }\n",
       "\n",
       "    .dataframe thead th {\n",
       "        text-align: right;\n",
       "    }\n",
       "</style>\n",
       "<table border=\"1\" class=\"dataframe\">\n",
       "  <thead>\n",
       "    <tr style=\"text-align: right;\">\n",
       "      <th></th>\n",
       "      <th>0</th>\n",
       "      <th>1</th>\n",
       "      <th>2</th>\n",
       "      <th>3</th>\n",
       "      <th>4</th>\n",
       "      <th>5</th>\n",
       "      <th>6</th>\n",
       "      <th>7</th>\n",
       "      <th>8</th>\n",
       "      <th>9</th>\n",
       "      <th>10</th>\n",
       "    </tr>\n",
       "  </thead>\n",
       "  <tbody>\n",
       "    <tr>\n",
       "      <th>0</th>\n",
       "      <td>0.489548</td>\n",
       "      <td>-0.961003</td>\n",
       "      <td>0.659811</td>\n",
       "      <td>-0.499674</td>\n",
       "      <td>-0.588405</td>\n",
       "      <td>0.493872</td>\n",
       "      <td>0.295467</td>\n",
       "      <td>-0.919712</td>\n",
       "      <td>-0.873225</td>\n",
       "      <td>0.963819</td>\n",
       "      <td>0.517527</td>\n",
       "    </tr>\n",
       "    <tr>\n",
       "      <th>1</th>\n",
       "      <td>-0.268860</td>\n",
       "      <td>0.191906</td>\n",
       "      <td>0.245717</td>\n",
       "      <td>-0.499674</td>\n",
       "      <td>-0.393727</td>\n",
       "      <td>0.969920</td>\n",
       "      <td>2.319748</td>\n",
       "      <td>-0.234313</td>\n",
       "      <td>-0.160127</td>\n",
       "      <td>-0.768973</td>\n",
       "      <td>-1.045407</td>\n",
       "    </tr>\n",
       "    <tr>\n",
       "      <th>2</th>\n",
       "      <td>-0.152182</td>\n",
       "      <td>-0.082596</td>\n",
       "      <td>-1.203608</td>\n",
       "      <td>-0.567101</td>\n",
       "      <td>-0.372096</td>\n",
       "      <td>-0.553431</td>\n",
       "      <td>-0.327389</td>\n",
       "      <td>-0.497928</td>\n",
       "      <td>0.164009</td>\n",
       "      <td>-0.529967</td>\n",
       "      <td>-0.401846</td>\n",
       "    </tr>\n",
       "    <tr>\n",
       "      <th>3</th>\n",
       "      <td>-0.735573</td>\n",
       "      <td>0.850711</td>\n",
       "      <td>-0.996562</td>\n",
       "      <td>-0.027688</td>\n",
       "      <td>0.082155</td>\n",
       "      <td>-0.077384</td>\n",
       "      <td>-0.763388</td>\n",
       "      <td>-0.513745</td>\n",
       "      <td>0.423317</td>\n",
       "      <td>-0.350713</td>\n",
       "      <td>0.793339</td>\n",
       "    </tr>\n",
       "    <tr>\n",
       "      <th>4</th>\n",
       "      <td>-0.560555</td>\n",
       "      <td>-0.302198</td>\n",
       "      <td>0.297479</td>\n",
       "      <td>-0.297394</td>\n",
       "      <td>-0.545143</td>\n",
       "      <td>1.445967</td>\n",
       "      <td>0.264324</td>\n",
       "      <td>0.308733</td>\n",
       "      <td>-0.095300</td>\n",
       "      <td>-0.051955</td>\n",
       "      <td>-0.401846</td>\n",
       "    </tr>\n",
       "  </tbody>\n",
       "</table>\n",
       "</div>"
      ],
      "text/plain": [
       "         0         1         2         3         4         5         6   \\\n",
       "0  0.489548 -0.961003  0.659811 -0.499674 -0.588405  0.493872  0.295467   \n",
       "1 -0.268860  0.191906  0.245717 -0.499674 -0.393727  0.969920  2.319748   \n",
       "2 -0.152182 -0.082596 -1.203608 -0.567101 -0.372096 -0.553431 -0.327389   \n",
       "3 -0.735573  0.850711 -0.996562 -0.027688  0.082155 -0.077384 -0.763388   \n",
       "4 -0.560555 -0.302198  0.297479 -0.297394 -0.545143  1.445967  0.264324   \n",
       "\n",
       "         7         8         9         10  \n",
       "0 -0.919712 -0.873225  0.963819  0.517527  \n",
       "1 -0.234313 -0.160127 -0.768973 -1.045407  \n",
       "2 -0.497928  0.164009 -0.529967 -0.401846  \n",
       "3 -0.513745  0.423317 -0.350713  0.793339  \n",
       "4  0.308733 -0.095300 -0.051955 -0.401846  "
      ]
     },
     "execution_count": 19,
     "metadata": {},
     "output_type": "execute_result"
    }
   ],
   "source": [
    "'''\n",
    "X_train = pd.read_csv(preprocessed_training_data + '/train_features.csv', header=None)\n",
    "\n",
    "#Checks are for previous inconsistencies in data shape\n",
    "print('The Training Data Features Dataframe has the following shape: {}'.format(X_train.shape))\n",
    "print('The Training Data Features Numpy Array has the following shape: {}'.format(np.array(X_train).shape))\n",
    "\n",
    "X_train.head(5)"
   ]
  },
  {
   "cell_type": "code",
   "execution_count": 20,
   "metadata": {},
   "outputs": [
    {
     "name": "stdout",
     "output_type": "stream",
     "text": [
      "The Training Data Labels Dataframe has the following shape: (1119, 1)\n",
      "The Training Data Labels Numpy Array has the following shape: (1119,)\n"
     ]
    },
    {
     "data": {
      "text/html": [
       "<div>\n",
       "<style scoped>\n",
       "    .dataframe tbody tr th:only-of-type {\n",
       "        vertical-align: middle;\n",
       "    }\n",
       "\n",
       "    .dataframe tbody tr th {\n",
       "        vertical-align: top;\n",
       "    }\n",
       "\n",
       "    .dataframe thead th {\n",
       "        text-align: right;\n",
       "    }\n",
       "</style>\n",
       "<table border=\"1\" class=\"dataframe\">\n",
       "  <thead>\n",
       "    <tr style=\"text-align: right;\">\n",
       "      <th></th>\n",
       "      <th>0</th>\n",
       "    </tr>\n",
       "  </thead>\n",
       "  <tbody>\n",
       "    <tr>\n",
       "      <th>0</th>\n",
       "      <td>7</td>\n",
       "    </tr>\n",
       "    <tr>\n",
       "      <th>1</th>\n",
       "      <td>5</td>\n",
       "    </tr>\n",
       "    <tr>\n",
       "      <th>2</th>\n",
       "      <td>5</td>\n",
       "    </tr>\n",
       "    <tr>\n",
       "      <th>3</th>\n",
       "      <td>6</td>\n",
       "    </tr>\n",
       "    <tr>\n",
       "      <th>4</th>\n",
       "      <td>7</td>\n",
       "    </tr>\n",
       "  </tbody>\n",
       "</table>\n",
       "</div>"
      ],
      "text/plain": [
       "   0\n",
       "0  7\n",
       "1  5\n",
       "2  5\n",
       "3  6\n",
       "4  7"
      ]
     },
     "execution_count": 20,
     "metadata": {},
     "output_type": "execute_result"
    }
   ],
   "source": [
    "'''\n",
    "y_train = pd.read_csv(preprocessed_training_data + '/train_labels.csv', header=None)\n",
    "\n",
    "#Checks are for previous inconsistencies in data shape\n",
    "print('The Training Data Labels Dataframe has the following shape: {}'.format(y_train.shape))\n",
    "print('The Training Data Labels Numpy Array has the following shape: {}'.format(np.array(y_train).ravel().shape))\n",
    "\n",
    "y_train.head(5)"
   ]
  },
  {
   "cell_type": "markdown",
   "metadata": {},
   "source": [
    "## Training"
   ]
  },
  {
   "cell_type": "markdown",
   "metadata": {},
   "source": [
    "### Training Script"
   ]
  },
  {
   "cell_type": "code",
   "execution_count": 57,
   "metadata": {},
   "outputs": [
    {
     "name": "stdout",
     "output_type": "stream",
     "text": [
      "Overwriting train.py\n"
     ]
    }
   ],
   "source": [
    "%%writefile train.py\n",
    "\n",
    "import argparse\n",
    "import os\n",
    "\n",
    "import pandas as pd\n",
    "import numpy as np\n",
    "\n",
    "from sklearn.ensemble import RandomForestRegressor\n",
    "from sklearn.externals import joblib\n",
    "\n",
    "from sklearn.model_selection import cross_val_score\n",
    "\n",
    "seed = 5590\n",
    "\n",
    "# Inference Function\n",
    "def model_fn(model_dir):\n",
    "    clf = joblib.load(os.path.join(model_dir, \"model.joblib\"))\n",
    "    return clf\n",
    "\n",
    "if __name__==\"__main__\":\n",
    "    \n",
    "    print('Extracting Arguments')\n",
    "    parser = argparse.ArgumentParser()\n",
    "    \n",
    "    # Hyperparameters\n",
    "    parser.add_argument('--n-estimators', type=int, default=750)\n",
    "    parser.add_argument('--max-features', type=str, default='sqrt')\n",
    "    \n",
    "    # Directories\n",
    "    parser.add_argument('--model-dir', type=str, default=os.environ['SM_MODEL_DIR'])\n",
    "    parser.add_argument('--train', type=str, default=os.environ['SM_CHANNEL_TRAIN'])\n",
    "    parser.add_argument('--test', type=str, default=os.environ['SM_CHANNEL_TEST'])\n",
    "    parser.add_argument('--train_file_features', type=str, default = 'train_features.csv')\n",
    "    parser.add_argument('--train_file_labels', type=str, default = 'train_labels.csv')\n",
    "    parser.add_argument('--test_file_features', type=str, default = 'test_features.csv')\n",
    "    parser.add_argument('--test_file_labels', type=str, default = 'test_labels.csv')\n",
    "    \n",
    "    args = parser.parse_args()\n",
    "    \n",
    "    # Data Paths\n",
    "    train_features_data = os.path.join(args.train, args.train_file_features)\n",
    "    train_labels_data = os.path.join(args.train, args.train_file_labels)\n",
    "    \n",
    "    #test_features_data = os.path.join(args.test, args.test_file_features)\n",
    "    #test_labels_data = os.path.join(args.test, args.test_file_labels)\n",
    "    \n",
    "    \n",
    "    print('Reading input data')\n",
    "    # Import Data\n",
    "    ## Training\n",
    "    X_train = pd.read_csv(train_features_data)\n",
    "    y_train = pd.read_csv(train_labels_data)\n",
    "    \n",
    "    ## Test\n",
    "    #X_test = pd.read_csv(test_features_data)\n",
    "    #y_test = pd.read_csv(test_labels_data)\n",
    "    \n",
    "    # Convert Data to NP Array\n",
    "    ## Training\n",
    "    X_train = np.array(X_train)\n",
    "    y_train = np.array(y_train).ravel()\n",
    "    \n",
    "    ## Test\n",
    "    #X_test = np.array(X_test)\n",
    "    #y_test = np.array(y_test).ravel()\n",
    "    \n",
    "    # Check Data Shape\n",
    "    print(X_train.shape)\n",
    "    print(y_train.shape)\n",
    "    \n",
    "    # Initialize Random Forest Regressor Model. \n",
    "    # Hyperparameters based on earlier local analysis\n",
    "        \n",
    "    model = RandomForestRegressor(n_estimators = args.n_estimators,\n",
    "                                  max_features = args.max_features,\n",
    "                                  random_state = seed)\n",
    "    \n",
    "    print('Training Random Forest Regression model')\n",
    "    model.fit(X_train, y_train)\n",
    "    \n",
    "    print('Training Complete')\n",
    "    \n",
    "    # Metrics\n",
    "    \n",
    "    mse_neg = cross_val_score(model, X_train, y_train, scoring = 'neg_mean_squared_error', cv=10)\n",
    "    mse_abs = np.absolute(mse_neg)\n",
    "    rsme = np.sqrt(mse_abs)\n",
    "    rsme_avg = np.mean(rsme)\n",
    "    print('RMSE: {}'.format(rsme_avg))\n",
    "    \n",
    "    model_output_directory = os.path.join(args.model_dir, \"model.joblib\")\n",
    "    print('Saving model to {}'.format(model_output_directory))\n",
    "    joblib.dump(model, model_output_directory)"
   ]
  },
  {
   "cell_type": "markdown",
   "metadata": {},
   "source": [
    "### Create SKLearn Estimator For Training"
   ]
  },
  {
   "cell_type": "code",
   "execution_count": 58,
   "metadata": {},
   "outputs": [],
   "source": [
    "sklearn_est = SKLearn(\n",
    "    entry_point='train.py',\n",
    "    role=role,\n",
    "    train_instance_count=1,\n",
    "    train_instance_type=\"ml.c5.xlarge\",\n",
    "    framework_version='0.20.0',\n",
    "    base_job_name='red-wine-rf-scikit-training',\n",
    "    metric_definitions=[\n",
    "        {'Name': 'RSME',\n",
    "        'Regex': \"RSME: ([0-9.]+).*$\"}],\n",
    "    hyperparameters = {'n-estimators': 500}\n",
    ")"
   ]
  },
  {
   "cell_type": "markdown",
   "metadata": {},
   "source": [
    "### Fit SKLearn Esitmator to Training Data"
   ]
  },
  {
   "cell_type": "code",
   "execution_count": 59,
   "metadata": {
    "scrolled": true
   },
   "outputs": [],
   "source": [
    "sklearn_est.fit(\n",
    "    {\n",
    "        'train': preprocessed_training_data, \n",
    "        'test': preprocessed_test_data\n",
    "    },\n",
    "    wait = False\n",
    ")"
   ]
  },
  {
   "cell_type": "markdown",
   "metadata": {},
   "source": [
    "### Training Job Output Information"
   ]
  },
  {
   "cell_type": "code",
   "execution_count": 60,
   "metadata": {},
   "outputs": [],
   "source": [
    "training_job_description = sklearn_est.jobs[-1].describe()\n",
    "\n",
    "model_data_s3_uri = '{}{}/{}'.format(\n",
    "    training_job_description['OutputDataConfig']['S3OutputPath'],\n",
    "    training_job_description['TrainingJobName'],\n",
    "    'output/model.tar.gz')"
   ]
  },
  {
   "cell_type": "markdown",
   "metadata": {},
   "source": [
    "## Hyperparameter Tuning Test"
   ]
  },
  {
   "cell_type": "code",
   "execution_count": 67,
   "metadata": {},
   "outputs": [],
   "source": [
    "'''\n",
    "seed = 5590\n",
    "\n",
    "# Define exploration boundaries\n",
    "hyperparameter_ranges = {\n",
    "    'n-estimators': IntegerParameter(10, 1000),\n",
    "    'max-features': CategoricalParameter(['auto', 'sqrt', 'log2'])}\n",
    "\n",
    "# create Optimizer\n",
    "Optimizer = sagemaker.tuner.HyperparameterTuner(\n",
    "    estimator=sklearn_est,\n",
    "    hyperparameter_ranges=hyperparameter_ranges,\n",
    "    base_tuning_job_name='red-wine-rf-hpo',\n",
    "    objective_type='Minimize',\n",
    "    objective_metric_name='RMSE',\n",
    "    metric_definitions=[\n",
    "        {'Name': 'RMSE',\n",
    "        'Regex': \"RMSE: ([0-9.]+).*$\"}],\n",
    "    max_jobs=15,\n",
    "    max_parallel_jobs=3)"
   ]
  },
  {
   "cell_type": "code",
   "execution_count": 68,
   "metadata": {},
   "outputs": [],
   "source": [
    "'''\n",
    "Optimizer.fit(\n",
    "    {\n",
    "        'train': preprocessed_training_data, \n",
    "        'test': preprocessed_test_data\n",
    "    },\n",
    "    wait = False\n",
    ")"
   ]
  },
  {
   "cell_type": "code",
   "execution_count": 84,
   "metadata": {},
   "outputs": [
    {
     "data": {
      "text/html": [
       "<div>\n",
       "<style scoped>\n",
       "    .dataframe tbody tr th:only-of-type {\n",
       "        vertical-align: middle;\n",
       "    }\n",
       "\n",
       "    .dataframe tbody tr th {\n",
       "        vertical-align: top;\n",
       "    }\n",
       "\n",
       "    .dataframe thead th {\n",
       "        text-align: right;\n",
       "    }\n",
       "</style>\n",
       "<table border=\"1\" class=\"dataframe\">\n",
       "  <thead>\n",
       "    <tr style=\"text-align: right;\">\n",
       "      <th></th>\n",
       "      <th>FinalObjectiveValue</th>\n",
       "      <th>TrainingElapsedTimeSeconds</th>\n",
       "      <th>TrainingEndTime</th>\n",
       "      <th>TrainingJobName</th>\n",
       "      <th>TrainingJobStatus</th>\n",
       "      <th>TrainingStartTime</th>\n",
       "      <th>max-features</th>\n",
       "      <th>n-estimators</th>\n",
       "    </tr>\n",
       "  </thead>\n",
       "  <tbody>\n",
       "    <tr>\n",
       "      <th>0</th>\n",
       "      <td>0.598190</td>\n",
       "      <td>55.0</td>\n",
       "      <td>2020-02-29 17:50:30+00:00</td>\n",
       "      <td>red-wine-rf-hpo-200229-1732-015-60904f48</td>\n",
       "      <td>Completed</td>\n",
       "      <td>2020-02-29 17:49:35+00:00</td>\n",
       "      <td>\"log2\"</td>\n",
       "      <td>153.0</td>\n",
       "    </tr>\n",
       "    <tr>\n",
       "      <th>1</th>\n",
       "      <td>0.600965</td>\n",
       "      <td>41.0</td>\n",
       "      <td>2020-02-29 17:48:52+00:00</td>\n",
       "      <td>red-wine-rf-hpo-200229-1732-014-c78d88a4</td>\n",
       "      <td>Completed</td>\n",
       "      <td>2020-02-29 17:48:11+00:00</td>\n",
       "      <td>\"log2\"</td>\n",
       "      <td>89.0</td>\n",
       "    </tr>\n",
       "    <tr>\n",
       "      <th>2</th>\n",
       "      <td>0.608505</td>\n",
       "      <td>54.0</td>\n",
       "      <td>2020-02-29 17:49:45+00:00</td>\n",
       "      <td>red-wine-rf-hpo-200229-1732-013-3a0ecf82</td>\n",
       "      <td>Completed</td>\n",
       "      <td>2020-02-29 17:48:51+00:00</td>\n",
       "      <td>\"log2\"</td>\n",
       "      <td>28.0</td>\n",
       "    </tr>\n",
       "    <tr>\n",
       "      <th>3</th>\n",
       "      <td>0.597289</td>\n",
       "      <td>84.0</td>\n",
       "      <td>2020-02-29 17:47:40+00:00</td>\n",
       "      <td>red-wine-rf-hpo-200229-1732-012-00dbcba5</td>\n",
       "      <td>Completed</td>\n",
       "      <td>2020-02-29 17:46:16+00:00</td>\n",
       "      <td>\"sqrt\"</td>\n",
       "      <td>665.0</td>\n",
       "    </tr>\n",
       "    <tr>\n",
       "      <th>4</th>\n",
       "      <td>0.597413</td>\n",
       "      <td>70.0</td>\n",
       "      <td>2020-02-29 17:45:54+00:00</td>\n",
       "      <td>red-wine-rf-hpo-200229-1732-011-1fcf2b15</td>\n",
       "      <td>Completed</td>\n",
       "      <td>2020-02-29 17:44:44+00:00</td>\n",
       "      <td>\"log2\"</td>\n",
       "      <td>1000.0</td>\n",
       "    </tr>\n",
       "    <tr>\n",
       "      <th>5</th>\n",
       "      <td>0.597129</td>\n",
       "      <td>80.0</td>\n",
       "      <td>2020-02-29 17:45:58+00:00</td>\n",
       "      <td>red-wine-rf-hpo-200229-1732-010-3eab2de1</td>\n",
       "      <td>Completed</td>\n",
       "      <td>2020-02-29 17:44:38+00:00</td>\n",
       "      <td>\"log2\"</td>\n",
       "      <td>706.0</td>\n",
       "    </tr>\n",
       "    <tr>\n",
       "      <th>6</th>\n",
       "      <td>0.597207</td>\n",
       "      <td>90.0</td>\n",
       "      <td>2020-02-29 17:43:14+00:00</td>\n",
       "      <td>red-wine-rf-hpo-200229-1732-009-c1f213f3</td>\n",
       "      <td>Completed</td>\n",
       "      <td>2020-02-29 17:41:44+00:00</td>\n",
       "      <td>\"log2\"</td>\n",
       "      <td>919.0</td>\n",
       "    </tr>\n",
       "    <tr>\n",
       "      <th>7</th>\n",
       "      <td>0.597364</td>\n",
       "      <td>63.0</td>\n",
       "      <td>2020-02-29 17:42:16+00:00</td>\n",
       "      <td>red-wine-rf-hpo-200229-1732-008-ac409c29</td>\n",
       "      <td>Completed</td>\n",
       "      <td>2020-02-29 17:41:13+00:00</td>\n",
       "      <td>\"sqrt\"</td>\n",
       "      <td>259.0</td>\n",
       "    </tr>\n",
       "    <tr>\n",
       "      <th>8</th>\n",
       "      <td>0.597138</td>\n",
       "      <td>68.0</td>\n",
       "      <td>2020-02-29 17:42:42+00:00</td>\n",
       "      <td>red-wine-rf-hpo-200229-1732-007-f82de863</td>\n",
       "      <td>Completed</td>\n",
       "      <td>2020-02-29 17:41:34+00:00</td>\n",
       "      <td>\"sqrt\"</td>\n",
       "      <td>704.0</td>\n",
       "    </tr>\n",
       "    <tr>\n",
       "      <th>9</th>\n",
       "      <td>0.596790</td>\n",
       "      <td>52.0</td>\n",
       "      <td>2020-02-29 17:38:45+00:00</td>\n",
       "      <td>red-wine-rf-hpo-200229-1732-006-46f3de97</td>\n",
       "      <td>Completed</td>\n",
       "      <td>2020-02-29 17:37:53+00:00</td>\n",
       "      <td>\"log2\"</td>\n",
       "      <td>302.0</td>\n",
       "    </tr>\n",
       "    <tr>\n",
       "      <th>10</th>\n",
       "      <td>0.601505</td>\n",
       "      <td>89.0</td>\n",
       "      <td>2020-02-29 17:39:10+00:00</td>\n",
       "      <td>red-wine-rf-hpo-200229-1732-005-14a5bc5c</td>\n",
       "      <td>Completed</td>\n",
       "      <td>2020-02-29 17:37:41+00:00</td>\n",
       "      <td>\"auto\"</td>\n",
       "      <td>762.0</td>\n",
       "    </tr>\n",
       "    <tr>\n",
       "      <th>11</th>\n",
       "      <td>0.601010</td>\n",
       "      <td>79.0</td>\n",
       "      <td>2020-02-29 17:38:50+00:00</td>\n",
       "      <td>red-wine-rf-hpo-200229-1732-004-c504adab</td>\n",
       "      <td>Completed</td>\n",
       "      <td>2020-02-29 17:37:31+00:00</td>\n",
       "      <td>\"auto\"</td>\n",
       "      <td>448.0</td>\n",
       "    </tr>\n",
       "    <tr>\n",
       "      <th>12</th>\n",
       "      <td>0.596056</td>\n",
       "      <td>56.0</td>\n",
       "      <td>2020-02-29 17:35:42+00:00</td>\n",
       "      <td>red-wine-rf-hpo-200229-1732-003-c5d45414</td>\n",
       "      <td>Completed</td>\n",
       "      <td>2020-02-29 17:34:46+00:00</td>\n",
       "      <td>\"sqrt\"</td>\n",
       "      <td>349.0</td>\n",
       "    </tr>\n",
       "    <tr>\n",
       "      <th>13</th>\n",
       "      <td>0.607877</td>\n",
       "      <td>48.0</td>\n",
       "      <td>2020-02-29 17:35:08+00:00</td>\n",
       "      <td>red-wine-rf-hpo-200229-1732-002-ffb414ed</td>\n",
       "      <td>Completed</td>\n",
       "      <td>2020-02-29 17:34:20+00:00</td>\n",
       "      <td>\"sqrt\"</td>\n",
       "      <td>29.0</td>\n",
       "    </tr>\n",
       "    <tr>\n",
       "      <th>14</th>\n",
       "      <td>0.598435</td>\n",
       "      <td>53.0</td>\n",
       "      <td>2020-02-29 17:35:45+00:00</td>\n",
       "      <td>red-wine-rf-hpo-200229-1732-001-bd9e92dc</td>\n",
       "      <td>Completed</td>\n",
       "      <td>2020-02-29 17:34:52+00:00</td>\n",
       "      <td>\"sqrt\"</td>\n",
       "      <td>142.0</td>\n",
       "    </tr>\n",
       "  </tbody>\n",
       "</table>\n",
       "</div>"
      ],
      "text/plain": [
       "    FinalObjectiveValue  TrainingElapsedTimeSeconds           TrainingEndTime  \\\n",
       "0              0.598190                        55.0 2020-02-29 17:50:30+00:00   \n",
       "1              0.600965                        41.0 2020-02-29 17:48:52+00:00   \n",
       "2              0.608505                        54.0 2020-02-29 17:49:45+00:00   \n",
       "3              0.597289                        84.0 2020-02-29 17:47:40+00:00   \n",
       "4              0.597413                        70.0 2020-02-29 17:45:54+00:00   \n",
       "5              0.597129                        80.0 2020-02-29 17:45:58+00:00   \n",
       "6              0.597207                        90.0 2020-02-29 17:43:14+00:00   \n",
       "7              0.597364                        63.0 2020-02-29 17:42:16+00:00   \n",
       "8              0.597138                        68.0 2020-02-29 17:42:42+00:00   \n",
       "9              0.596790                        52.0 2020-02-29 17:38:45+00:00   \n",
       "10             0.601505                        89.0 2020-02-29 17:39:10+00:00   \n",
       "11             0.601010                        79.0 2020-02-29 17:38:50+00:00   \n",
       "12             0.596056                        56.0 2020-02-29 17:35:42+00:00   \n",
       "13             0.607877                        48.0 2020-02-29 17:35:08+00:00   \n",
       "14             0.598435                        53.0 2020-02-29 17:35:45+00:00   \n",
       "\n",
       "                             TrainingJobName TrainingJobStatus  \\\n",
       "0   red-wine-rf-hpo-200229-1732-015-60904f48         Completed   \n",
       "1   red-wine-rf-hpo-200229-1732-014-c78d88a4         Completed   \n",
       "2   red-wine-rf-hpo-200229-1732-013-3a0ecf82         Completed   \n",
       "3   red-wine-rf-hpo-200229-1732-012-00dbcba5         Completed   \n",
       "4   red-wine-rf-hpo-200229-1732-011-1fcf2b15         Completed   \n",
       "5   red-wine-rf-hpo-200229-1732-010-3eab2de1         Completed   \n",
       "6   red-wine-rf-hpo-200229-1732-009-c1f213f3         Completed   \n",
       "7   red-wine-rf-hpo-200229-1732-008-ac409c29         Completed   \n",
       "8   red-wine-rf-hpo-200229-1732-007-f82de863         Completed   \n",
       "9   red-wine-rf-hpo-200229-1732-006-46f3de97         Completed   \n",
       "10  red-wine-rf-hpo-200229-1732-005-14a5bc5c         Completed   \n",
       "11  red-wine-rf-hpo-200229-1732-004-c504adab         Completed   \n",
       "12  red-wine-rf-hpo-200229-1732-003-c5d45414         Completed   \n",
       "13  red-wine-rf-hpo-200229-1732-002-ffb414ed         Completed   \n",
       "14  red-wine-rf-hpo-200229-1732-001-bd9e92dc         Completed   \n",
       "\n",
       "           TrainingStartTime max-features  n-estimators  \n",
       "0  2020-02-29 17:49:35+00:00       \"log2\"         153.0  \n",
       "1  2020-02-29 17:48:11+00:00       \"log2\"          89.0  \n",
       "2  2020-02-29 17:48:51+00:00       \"log2\"          28.0  \n",
       "3  2020-02-29 17:46:16+00:00       \"sqrt\"         665.0  \n",
       "4  2020-02-29 17:44:44+00:00       \"log2\"        1000.0  \n",
       "5  2020-02-29 17:44:38+00:00       \"log2\"         706.0  \n",
       "6  2020-02-29 17:41:44+00:00       \"log2\"         919.0  \n",
       "7  2020-02-29 17:41:13+00:00       \"sqrt\"         259.0  \n",
       "8  2020-02-29 17:41:34+00:00       \"sqrt\"         704.0  \n",
       "9  2020-02-29 17:37:53+00:00       \"log2\"         302.0  \n",
       "10 2020-02-29 17:37:41+00:00       \"auto\"         762.0  \n",
       "11 2020-02-29 17:37:31+00:00       \"auto\"         448.0  \n",
       "12 2020-02-29 17:34:46+00:00       \"sqrt\"         349.0  \n",
       "13 2020-02-29 17:34:20+00:00       \"sqrt\"          29.0  \n",
       "14 2020-02-29 17:34:52+00:00       \"sqrt\"         142.0  "
      ]
     },
     "execution_count": 84,
     "metadata": {},
     "output_type": "execute_result"
    }
   ],
   "source": [
    "'''\n",
    "tuner = Optimizer.analytics()\n",
    "df_tune_ouput_all = tuner.dataframe()\n",
    "\n",
    "df = df_tune_ouput_all[df_tune_ouput_all['FinalObjectiveValue'] > -float('inf')]\n",
    "\n",
    "df"
   ]
  },
  {
   "cell_type": "markdown",
   "metadata": {},
   "source": [
    "# Deploy Model"
   ]
  },
  {
   "cell_type": "code",
   "execution_count": 89,
   "metadata": {},
   "outputs": [
    {
     "name": "stdout",
     "output_type": "stream",
     "text": [
      "\n",
      "2020-02-29 15:06:27 Starting - Preparing the instances for training\n",
      "2020-02-29 15:06:27 Downloading - Downloading input data\n",
      "2020-02-29 15:06:27 Training - Training image download completed. Training in progress.\n",
      "2020-02-29 15:06:27 Uploading - Uploading generated training model\n",
      "2020-02-29 15:06:27 Completed - Training job completed\n"
     ]
    }
   ],
   "source": [
    "'''\n",
    "sklearn_est.latest_training_job.wait(logs='None')"
   ]
  },
  {
   "cell_type": "code",
   "execution_count": 90,
   "metadata": {
    "scrolled": true
   },
   "outputs": [
    {
     "name": "stdout",
     "output_type": "stream",
     "text": [
      "Model artifact persisted at s3://sagemaker-us-east-1-726963482731/red-wine-rf-scikit-training-2020-02-29-15-03-44-768/output/model.tar.gz\n"
     ]
    }
   ],
   "source": [
    "'''\n",
    "artifact = sm_boto3.describe_training_job(\n",
    "    TrainingJobName=sklearn_est.latest_training_job.name)['ModelArtifacts']['S3ModelArtifacts']\n",
    "\n",
    "print('Model artifact persisted at ' + artifact)"
   ]
  },
  {
   "cell_type": "code",
   "execution_count": 91,
   "metadata": {},
   "outputs": [
    {
     "name": "stdout",
     "output_type": "stream",
     "text": [
      "---------------!"
     ]
    }
   ],
   "source": [
    "'''\n",
    "sklearn_predictor = sklearn_est.deploy(initial_instance_count=1, \n",
    "                                   instance_type='ml.m4.xlarge')"
   ]
  },
  {
   "cell_type": "markdown",
   "metadata": {},
   "source": [
    "# Shut Down Endopoint"
   ]
  },
  {
   "cell_type": "code",
   "execution_count": 93,
   "metadata": {},
   "outputs": [],
   "source": [
    "'''\n",
    "sagemaker.Session().delete_endpoint(sklearn_predictor.endpoint)"
   ]
  }
 ],
 "metadata": {
  "colab": {
   "authorship_tag": "ABX9TyMdXJpT3TDiGPr1DJiFRTOC",
   "collapsed_sections": [],
   "include_colab_link": true,
   "name": "wine_quality_predict.ipynb",
   "provenance": [],
   "toc_visible": true
  },
  "kernelspec": {
   "display_name": "conda_python3",
   "language": "python",
   "name": "conda_python3"
  },
  "language_info": {
   "codemirror_mode": {
    "name": "ipython",
    "version": 3
   },
   "file_extension": ".py",
   "mimetype": "text/x-python",
   "name": "python",
   "nbconvert_exporter": "python",
   "pygments_lexer": "ipython3",
   "version": "3.6.5"
  }
 },
 "nbformat": 4,
 "nbformat_minor": 1
}
