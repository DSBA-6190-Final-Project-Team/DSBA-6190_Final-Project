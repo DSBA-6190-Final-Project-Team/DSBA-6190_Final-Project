{
  "nbformat": 4,
  "nbformat_minor": 0,
  "metadata": {
    "colab": {
      "name": "State Farm Distracted Driver Process Flow.ipynb",
      "provenance": [],
      "collapsed_sections": [],
      "toc_visible": true,
      "authorship_tag": "ABX9TyMmk5XV1d92ytRAANW4FwtZ",
      "include_colab_link": true
    },
    "kernelspec": {
      "name": "python3",
      "display_name": "Python 3"
    }
  },
  "cells": [
    {
      "cell_type": "markdown",
      "metadata": {
        "id": "view-in-github",
        "colab_type": "text"
      },
      "source": [
        "<a href=\"https://colab.research.google.com/github/DSBA-6190-Final-Project-Team/DSBA-6190_Final-Project/blob/master/State_Farm_Distracted_Driver_Process_Flow.ipynb\" target=\"_parent\"><img src=\"https://colab.research.google.com/assets/colab-badge.svg\" alt=\"Open In Colab\"/></a>"
      ]
    },
    {
      "cell_type": "markdown",
      "metadata": {
        "id": "fMWkZI1I_sy-",
        "colab_type": "text"
      },
      "source": [
        "# Background and Proposed Method"
      ]
    },
    {
      "cell_type": "markdown",
      "metadata": {
        "id": "MZ1CPjQE_iGK",
        "colab_type": "text"
      },
      "source": [
        "## Data\n",
        "The data set is the [State Farm Distracted Driver](https://www.kaggle.com/c/state-farm-distracted-driver-detection) dataset hosted on Kaggle.\n",
        "\n",
        "The Kaggle page provides three items: \n",
        "1. a list of training images, their subject (driver) id, and class id (CSV)\n",
        "2. a sample_submission.csv - a sample submission file in the correct format (CSV)\n",
        "3. zipped folder of all (train/test) images (ZIP)\n",
        "\n",
        "The data that the algorithm will train on is in the zipped folder. Within the folder are two sub-directories, train and test. The train directory contains the training set of the data, with each class of image within its own subfolder. The test directory contains only images, not seperated by class. It is to be used to score the final algorithm for Kaggle.\n",
        "\n",
        "\n",
        "\n",
        "\n"
      ]
    },
    {
      "cell_type": "markdown",
      "metadata": {
        "id": "5wOKYYpDCG7z",
        "colab_type": "text"
      },
      "source": [
        "## Environment\n",
        "The current plan is to generate a model in Amazon Sagemaker. A Amazon Sagemaker Notebook, using the Sagemaker Image Classification algorithm, will be used to generate a model. The Notebook will also deplot the model, once trained."
      ]
    },
    {
      "cell_type": "markdown",
      "metadata": {
        "id": "8cCmuakiEK-e",
        "colab_type": "text"
      },
      "source": [
        "## Algorithm\n",
        "The Amazon Sagemaker Image Classification Algorithm has four main inputs:\n",
        "1. training set of images\n",
        "2. test set of images\n",
        "3. lst/rec file for trianing set\n",
        "4. lst/rec file for test set\n",
        "\n",
        "The lst or rec file (either acceptable) functions as a mapping resource, connecting each image to the image location and image class."
      ]
    },
    {
      "cell_type": "markdown",
      "metadata": {
        "id": "Sp840mVBIPA2",
        "colab_type": "text"
      },
      "source": [
        "## Data Preparation\n",
        "The provided test set will not be useful as a test set for the algorithm. The Sagemaker Image Classification Algorithm requires a labeled test set. Therefore, we will need to derive our own test set from the provided training set.\n",
        "\n",
        "Based on the [Towards Data blog post](https://towardsdatascience.com/how-i-tackled-my-first-kaggle-challenge-using-deep-learning-part-1-b0da29e1351b) walking through the same data, we are not going to split the training/test data strictly randomly. Instead, we will split the drivers randomly, so that a unique driver only exists in either the training or the test set.\n",
        "\n",
        "### Training / Test Set\n",
        "The first step will be developing a list of unique drivers. We should also check the amount of pictures per driver to get an idea of how even the split of pictures per driver is. \n",
        "\n",
        "Then, we will generate a list of training and test drivers by randomly selecting from the unique list of drivers, using a 80/20 split.\n",
        "\n",
        "### LST/REC File Development\n",
        "The Image Classification Algorithm requires a file which maps the  images to the associated classes, for the training and testing sets. This can be in the form of a lst or rec file. \n",
        "\n",
        "There is python script available [here](https://mxnet.apache.org/api/faq/recordio) which will create these files. But these files must on your machine locally. I have already exported the files to S3. Therefore, I will need to redownload the files to a local machine and run this script. \n",
        "\n",
        "#### Training / Test in the Mapping File\n",
        "Ideally, the training and test files would be physically seperated into two seperate folders. I would prefer not to do that, as the image folders have already been uploaded to S3. \n",
        "\n",
        "Therefore, I am going to try to keep the training and tes images in the same folder, but develop two mapping documents (as is required). That way, the mapping documents will scan the same image folder, but identify only the images on the training or testing mapping document.\n",
        "\n",
        "If this doesn't work I will revert to physiclaly seperating the training and test images.\n",
        "\n"
      ]
    },
    {
      "cell_type": "markdown",
      "metadata": {
        "id": "_jc74E27_bBG",
        "colab_type": "text"
      },
      "source": [
        "# Import"
      ]
    },
    {
      "cell_type": "markdown",
      "metadata": {
        "id": "1z9yTpGbACbX",
        "colab_type": "text"
      },
      "source": [
        "## Library / Packages"
      ]
    },
    {
      "cell_type": "code",
      "metadata": {
        "id": "vhXJ8brV_4Qb",
        "colab_type": "code",
        "colab": {}
      },
      "source": [
        "import pandas as pd\n",
        "import random "
      ],
      "execution_count": 0,
      "outputs": []
    },
    {
      "cell_type": "markdown",
      "metadata": {
        "id": "406FN849AG3C",
        "colab_type": "text"
      },
      "source": [
        "## Data"
      ]
    },
    {
      "cell_type": "code",
      "metadata": {
        "id": "RpUao_lNAE88",
        "colab_type": "code",
        "colab": {}
      },
      "source": [
        "url = \"https://raw.githubusercontent.com/DSBA-6190-Final-Project-Team/DSBA-6190_Final-Project/master/wine_predict/data/driver_imgs_list.csv\"\n",
        "\n",
        "df_driver_index = pd.read_csv( url) "
      ],
      "execution_count": 0,
      "outputs": []
    },
    {
      "cell_type": "markdown",
      "metadata": {
        "id": "Xr04mwBdAwNY",
        "colab_type": "text"
      },
      "source": [
        "# EDA"
      ]
    },
    {
      "cell_type": "code",
      "metadata": {
        "id": "1W_1IwhLA7vT",
        "colab_type": "code",
        "colab": {
          "base_uri": "https://localhost:8080/",
          "height": 34
        },
        "outputId": "6c263b25-d00d-46cc-c0cc-35a5f5e9f47c"
      },
      "source": [
        "df_driver_index.shape"
      ],
      "execution_count": 114,
      "outputs": [
        {
          "output_type": "execute_result",
          "data": {
            "text/plain": [
              "(22424, 3)"
            ]
          },
          "metadata": {
            "tags": []
          },
          "execution_count": 114
        }
      ]
    },
    {
      "cell_type": "code",
      "metadata": {
        "id": "n3glHqjBA3wI",
        "colab_type": "code",
        "colab": {
          "base_uri": "https://localhost:8080/",
          "height": 204
        },
        "outputId": "d57b86d9-fe7b-4640-f241-3cba70bfab9e"
      },
      "source": [
        "df_driver_index.head(5)"
      ],
      "execution_count": 115,
      "outputs": [
        {
          "output_type": "execute_result",
          "data": {
            "text/html": [
              "<div>\n",
              "<style scoped>\n",
              "    .dataframe tbody tr th:only-of-type {\n",
              "        vertical-align: middle;\n",
              "    }\n",
              "\n",
              "    .dataframe tbody tr th {\n",
              "        vertical-align: top;\n",
              "    }\n",
              "\n",
              "    .dataframe thead th {\n",
              "        text-align: right;\n",
              "    }\n",
              "</style>\n",
              "<table border=\"1\" class=\"dataframe\">\n",
              "  <thead>\n",
              "    <tr style=\"text-align: right;\">\n",
              "      <th></th>\n",
              "      <th>subject</th>\n",
              "      <th>classname</th>\n",
              "      <th>img</th>\n",
              "    </tr>\n",
              "  </thead>\n",
              "  <tbody>\n",
              "    <tr>\n",
              "      <th>0</th>\n",
              "      <td>p002</td>\n",
              "      <td>c0</td>\n",
              "      <td>img_44733.jpg</td>\n",
              "    </tr>\n",
              "    <tr>\n",
              "      <th>1</th>\n",
              "      <td>p002</td>\n",
              "      <td>c0</td>\n",
              "      <td>img_72999.jpg</td>\n",
              "    </tr>\n",
              "    <tr>\n",
              "      <th>2</th>\n",
              "      <td>p002</td>\n",
              "      <td>c0</td>\n",
              "      <td>img_25094.jpg</td>\n",
              "    </tr>\n",
              "    <tr>\n",
              "      <th>3</th>\n",
              "      <td>p002</td>\n",
              "      <td>c0</td>\n",
              "      <td>img_69092.jpg</td>\n",
              "    </tr>\n",
              "    <tr>\n",
              "      <th>4</th>\n",
              "      <td>p002</td>\n",
              "      <td>c0</td>\n",
              "      <td>img_92629.jpg</td>\n",
              "    </tr>\n",
              "  </tbody>\n",
              "</table>\n",
              "</div>"
            ],
            "text/plain": [
              "  subject classname            img\n",
              "0    p002        c0  img_44733.jpg\n",
              "1    p002        c0  img_72999.jpg\n",
              "2    p002        c0  img_25094.jpg\n",
              "3    p002        c0  img_69092.jpg\n",
              "4    p002        c0  img_92629.jpg"
            ]
          },
          "metadata": {
            "tags": []
          },
          "execution_count": 115
        }
      ]
    },
    {
      "cell_type": "code",
      "metadata": {
        "id": "R-sfjF4eAyMI",
        "colab_type": "code",
        "colab": {
          "base_uri": "https://localhost:8080/",
          "height": 34
        },
        "outputId": "2a8fafe6-343c-4cc7-8b1c-5f64856d2518"
      },
      "source": [
        "df_driver_index.columns"
      ],
      "execution_count": 116,
      "outputs": [
        {
          "output_type": "execute_result",
          "data": {
            "text/plain": [
              "Index(['subject', 'classname', 'img'], dtype='object')"
            ]
          },
          "metadata": {
            "tags": []
          },
          "execution_count": 116
        }
      ]
    },
    {
      "cell_type": "markdown",
      "metadata": {
        "id": "i2w7VZnGBz8G",
        "colab_type": "text"
      },
      "source": [
        "The following lists each unique driver along with the number of different classname and images are associated with each. Note the number of classnames is not unique, so the images an classnames have equal frequencies."
      ]
    },
    {
      "cell_type": "code",
      "metadata": {
        "id": "_vqngHEZBEVL",
        "colab_type": "code",
        "colab": {
          "base_uri": "https://localhost:8080/",
          "height": 886
        },
        "outputId": "f391960d-5245-42b3-ba56-0cde324c5a5b"
      },
      "source": [
        "drivers_gb = df_driver_index.groupby(['subject'])\n",
        "drivers_gb.count()"
      ],
      "execution_count": 117,
      "outputs": [
        {
          "output_type": "execute_result",
          "data": {
            "text/html": [
              "<div>\n",
              "<style scoped>\n",
              "    .dataframe tbody tr th:only-of-type {\n",
              "        vertical-align: middle;\n",
              "    }\n",
              "\n",
              "    .dataframe tbody tr th {\n",
              "        vertical-align: top;\n",
              "    }\n",
              "\n",
              "    .dataframe thead th {\n",
              "        text-align: right;\n",
              "    }\n",
              "</style>\n",
              "<table border=\"1\" class=\"dataframe\">\n",
              "  <thead>\n",
              "    <tr style=\"text-align: right;\">\n",
              "      <th></th>\n",
              "      <th>classname</th>\n",
              "      <th>img</th>\n",
              "    </tr>\n",
              "    <tr>\n",
              "      <th>subject</th>\n",
              "      <th></th>\n",
              "      <th></th>\n",
              "    </tr>\n",
              "  </thead>\n",
              "  <tbody>\n",
              "    <tr>\n",
              "      <th>p002</th>\n",
              "      <td>725</td>\n",
              "      <td>725</td>\n",
              "    </tr>\n",
              "    <tr>\n",
              "      <th>p012</th>\n",
              "      <td>823</td>\n",
              "      <td>823</td>\n",
              "    </tr>\n",
              "    <tr>\n",
              "      <th>p014</th>\n",
              "      <td>876</td>\n",
              "      <td>876</td>\n",
              "    </tr>\n",
              "    <tr>\n",
              "      <th>p015</th>\n",
              "      <td>875</td>\n",
              "      <td>875</td>\n",
              "    </tr>\n",
              "    <tr>\n",
              "      <th>p016</th>\n",
              "      <td>1078</td>\n",
              "      <td>1078</td>\n",
              "    </tr>\n",
              "    <tr>\n",
              "      <th>p021</th>\n",
              "      <td>1237</td>\n",
              "      <td>1237</td>\n",
              "    </tr>\n",
              "    <tr>\n",
              "      <th>p022</th>\n",
              "      <td>1233</td>\n",
              "      <td>1233</td>\n",
              "    </tr>\n",
              "    <tr>\n",
              "      <th>p024</th>\n",
              "      <td>1226</td>\n",
              "      <td>1226</td>\n",
              "    </tr>\n",
              "    <tr>\n",
              "      <th>p026</th>\n",
              "      <td>1196</td>\n",
              "      <td>1196</td>\n",
              "    </tr>\n",
              "    <tr>\n",
              "      <th>p035</th>\n",
              "      <td>848</td>\n",
              "      <td>848</td>\n",
              "    </tr>\n",
              "    <tr>\n",
              "      <th>p039</th>\n",
              "      <td>651</td>\n",
              "      <td>651</td>\n",
              "    </tr>\n",
              "    <tr>\n",
              "      <th>p041</th>\n",
              "      <td>605</td>\n",
              "      <td>605</td>\n",
              "    </tr>\n",
              "    <tr>\n",
              "      <th>p042</th>\n",
              "      <td>591</td>\n",
              "      <td>591</td>\n",
              "    </tr>\n",
              "    <tr>\n",
              "      <th>p045</th>\n",
              "      <td>724</td>\n",
              "      <td>724</td>\n",
              "    </tr>\n",
              "    <tr>\n",
              "      <th>p047</th>\n",
              "      <td>835</td>\n",
              "      <td>835</td>\n",
              "    </tr>\n",
              "    <tr>\n",
              "      <th>p049</th>\n",
              "      <td>1011</td>\n",
              "      <td>1011</td>\n",
              "    </tr>\n",
              "    <tr>\n",
              "      <th>p050</th>\n",
              "      <td>790</td>\n",
              "      <td>790</td>\n",
              "    </tr>\n",
              "    <tr>\n",
              "      <th>p051</th>\n",
              "      <td>920</td>\n",
              "      <td>920</td>\n",
              "    </tr>\n",
              "    <tr>\n",
              "      <th>p052</th>\n",
              "      <td>740</td>\n",
              "      <td>740</td>\n",
              "    </tr>\n",
              "    <tr>\n",
              "      <th>p056</th>\n",
              "      <td>794</td>\n",
              "      <td>794</td>\n",
              "    </tr>\n",
              "    <tr>\n",
              "      <th>p061</th>\n",
              "      <td>809</td>\n",
              "      <td>809</td>\n",
              "    </tr>\n",
              "    <tr>\n",
              "      <th>p064</th>\n",
              "      <td>820</td>\n",
              "      <td>820</td>\n",
              "    </tr>\n",
              "    <tr>\n",
              "      <th>p066</th>\n",
              "      <td>1034</td>\n",
              "      <td>1034</td>\n",
              "    </tr>\n",
              "    <tr>\n",
              "      <th>p072</th>\n",
              "      <td>346</td>\n",
              "      <td>346</td>\n",
              "    </tr>\n",
              "    <tr>\n",
              "      <th>p075</th>\n",
              "      <td>814</td>\n",
              "      <td>814</td>\n",
              "    </tr>\n",
              "    <tr>\n",
              "      <th>p081</th>\n",
              "      <td>823</td>\n",
              "      <td>823</td>\n",
              "    </tr>\n",
              "  </tbody>\n",
              "</table>\n",
              "</div>"
            ],
            "text/plain": [
              "         classname   img\n",
              "subject                 \n",
              "p002           725   725\n",
              "p012           823   823\n",
              "p014           876   876\n",
              "p015           875   875\n",
              "p016          1078  1078\n",
              "p021          1237  1237\n",
              "p022          1233  1233\n",
              "p024          1226  1226\n",
              "p026          1196  1196\n",
              "p035           848   848\n",
              "p039           651   651\n",
              "p041           605   605\n",
              "p042           591   591\n",
              "p045           724   724\n",
              "p047           835   835\n",
              "p049          1011  1011\n",
              "p050           790   790\n",
              "p051           920   920\n",
              "p052           740   740\n",
              "p056           794   794\n",
              "p061           809   809\n",
              "p064           820   820\n",
              "p066          1034  1034\n",
              "p072           346   346\n",
              "p075           814   814\n",
              "p081           823   823"
            ]
          },
          "metadata": {
            "tags": []
          },
          "execution_count": 117
        }
      ]
    },
    {
      "cell_type": "markdown",
      "metadata": {
        "id": "F0KTpe42Cqi6",
        "colab_type": "text"
      },
      "source": [
        "We will set the training/test split ratio."
      ]
    },
    {
      "cell_type": "code",
      "metadata": {
        "id": "SNDV8uWICp9y",
        "colab_type": "code",
        "colab": {}
      },
      "source": [
        "train_test_split = 0.3"
      ],
      "execution_count": 0,
      "outputs": []
    },
    {
      "cell_type": "markdown",
      "metadata": {
        "id": "x6gBnk_kDXtt",
        "colab_type": "text"
      },
      "source": [
        "To split the data into training and test sets, we'll need a unique index of drivers. We don't need the frequency counts.\n",
        "\n",
        "We will create a shuffled list of unique drivers.\n"
      ]
    },
    {
      "cell_type": "code",
      "metadata": {
        "id": "5Lps82L_Dn9-",
        "colab_type": "code",
        "colab": {
          "base_uri": "https://localhost:8080/",
          "height": 54
        },
        "outputId": "f0aff480-dc8e-471a-d45f-ee9fd2f8d09e"
      },
      "source": [
        "drivers_unique = drivers_gb.groups.keys()\n",
        "drivers_unique = list(drivers_unique)\n",
        "\n",
        "random.Random(5590).shuffle(drivers_unique)\n",
        "print(drivers_unique)"
      ],
      "execution_count": 138,
      "outputs": [
        {
          "output_type": "stream",
          "text": [
            "['p049', 'p022', 'p012', 'p075', 'p045', 'p072', 'p026', 'p042', 'p015', 'p039', 'p047', 'p081', 'p052', 'p014', 'p021', 'p035', 'p061', 'p064', 'p066', 'p056', 'p002', 'p041', 'p024', 'p016', 'p051', 'p050']\n"
          ],
          "name": "stdout"
        }
      ]
    },
    {
      "cell_type": "markdown",
      "metadata": {
        "id": "YOClOK2lEZsD",
        "colab_type": "text"
      },
      "source": [
        "Now we'll set the list of drivers in the train set and the test set."
      ]
    },
    {
      "cell_type": "code",
      "metadata": {
        "id": "rzmgBKnHEfmx",
        "colab_type": "code",
        "colab": {}
      },
      "source": [
        "num_drivers_test = round(len(drivers_unique)*train_test_split)\n",
        "#print(num_drivers_test)\n",
        "num_drivers_train = len(drivers_unique) - num_drivers_test\n",
        "#print(num_drivers_train)"
      ],
      "execution_count": 0,
      "outputs": []
    },
    {
      "cell_type": "code",
      "metadata": {
        "id": "keIIvYaDFeGv",
        "colab_type": "code",
        "colab": {
          "base_uri": "https://localhost:8080/",
          "height": 34
        },
        "outputId": "a0445d0d-d0e2-4780-a6ab-8ae3abce0bca"
      },
      "source": [
        "drivers_test = drivers_unique[:num_drivers_test]\n",
        "print(drivers_test)"
      ],
      "execution_count": 136,
      "outputs": [
        {
          "output_type": "stream",
          "text": [
            "['p049', 'p022', 'p012', 'p075', 'p045', 'p072', 'p026', 'p042']\n"
          ],
          "name": "stdout"
        }
      ]
    },
    {
      "cell_type": "code",
      "metadata": {
        "id": "aA1httPIFte_",
        "colab_type": "code",
        "colab": {
          "base_uri": "https://localhost:8080/",
          "height": 34
        },
        "outputId": "e23ed327-f12f-408b-bf00-8cfeb1d49f4f"
      },
      "source": [
        "drivers_train = drivers_unique[-num_drivers_train:]\n",
        "print(drivers_train)"
      ],
      "execution_count": 137,
      "outputs": [
        {
          "output_type": "stream",
          "text": [
            "['p015', 'p039', 'p047', 'p081', 'p052', 'p014', 'p021', 'p035', 'p061', 'p064', 'p066', 'p056', 'p002', 'p041', 'p024', 'p016', 'p051', 'p050']\n"
          ],
          "name": "stdout"
        }
      ]
    },
    {
      "cell_type": "markdown",
      "metadata": {
        "id": "hNA4cd_cPquX",
        "colab_type": "text"
      },
      "source": [
        "# Training and Test Image Lists\n",
        "We'll now create two lists, one list of every image file name associated with the trainging set, another list associated with the test set. \n",
        "\n",
        "We will use these lists to filter the overall lst mapping file."
      ]
    },
    {
      "cell_type": "code",
      "metadata": {
        "id": "f8a4uhBKP-uQ",
        "colab_type": "code",
        "colab": {}
      },
      "source": [
        "df_images_test = df_driver_index[df_driver_index['subject'].isin(drivers_test)]\n",
        "df_images_training = df_driver_index[~df_driver_index['subject'].isin(drivers_test)]"
      ],
      "execution_count": 0,
      "outputs": []
    },
    {
      "cell_type": "code",
      "metadata": {
        "id": "vHXC2dsXQ2Po",
        "colab_type": "code",
        "colab": {
          "base_uri": "https://localhost:8080/",
          "height": 419
        },
        "outputId": "d2f863d9-7bdb-493f-d31e-148314e19378"
      },
      "source": [
        "df_images_training"
      ],
      "execution_count": 144,
      "outputs": [
        {
          "output_type": "execute_result",
          "data": {
            "text/html": [
              "<div>\n",
              "<style scoped>\n",
              "    .dataframe tbody tr th:only-of-type {\n",
              "        vertical-align: middle;\n",
              "    }\n",
              "\n",
              "    .dataframe tbody tr th {\n",
              "        vertical-align: top;\n",
              "    }\n",
              "\n",
              "    .dataframe thead th {\n",
              "        text-align: right;\n",
              "    }\n",
              "</style>\n",
              "<table border=\"1\" class=\"dataframe\">\n",
              "  <thead>\n",
              "    <tr style=\"text-align: right;\">\n",
              "      <th></th>\n",
              "      <th>subject</th>\n",
              "      <th>classname</th>\n",
              "      <th>img</th>\n",
              "    </tr>\n",
              "  </thead>\n",
              "  <tbody>\n",
              "    <tr>\n",
              "      <th>0</th>\n",
              "      <td>p002</td>\n",
              "      <td>c0</td>\n",
              "      <td>img_44733.jpg</td>\n",
              "    </tr>\n",
              "    <tr>\n",
              "      <th>1</th>\n",
              "      <td>p002</td>\n",
              "      <td>c0</td>\n",
              "      <td>img_72999.jpg</td>\n",
              "    </tr>\n",
              "    <tr>\n",
              "      <th>2</th>\n",
              "      <td>p002</td>\n",
              "      <td>c0</td>\n",
              "      <td>img_25094.jpg</td>\n",
              "    </tr>\n",
              "    <tr>\n",
              "      <th>3</th>\n",
              "      <td>p002</td>\n",
              "      <td>c0</td>\n",
              "      <td>img_69092.jpg</td>\n",
              "    </tr>\n",
              "    <tr>\n",
              "      <th>4</th>\n",
              "      <td>p002</td>\n",
              "      <td>c0</td>\n",
              "      <td>img_92629.jpg</td>\n",
              "    </tr>\n",
              "    <tr>\n",
              "      <th>...</th>\n",
              "      <td>...</td>\n",
              "      <td>...</td>\n",
              "      <td>...</td>\n",
              "    </tr>\n",
              "    <tr>\n",
              "      <th>22419</th>\n",
              "      <td>p081</td>\n",
              "      <td>c9</td>\n",
              "      <td>img_56936.jpg</td>\n",
              "    </tr>\n",
              "    <tr>\n",
              "      <th>22420</th>\n",
              "      <td>p081</td>\n",
              "      <td>c9</td>\n",
              "      <td>img_46218.jpg</td>\n",
              "    </tr>\n",
              "    <tr>\n",
              "      <th>22421</th>\n",
              "      <td>p081</td>\n",
              "      <td>c9</td>\n",
              "      <td>img_25946.jpg</td>\n",
              "    </tr>\n",
              "    <tr>\n",
              "      <th>22422</th>\n",
              "      <td>p081</td>\n",
              "      <td>c9</td>\n",
              "      <td>img_67850.jpg</td>\n",
              "    </tr>\n",
              "    <tr>\n",
              "      <th>22423</th>\n",
              "      <td>p081</td>\n",
              "      <td>c9</td>\n",
              "      <td>img_9684.jpg</td>\n",
              "    </tr>\n",
              "  </tbody>\n",
              "</table>\n",
              "<p>15686 rows × 3 columns</p>\n",
              "</div>"
            ],
            "text/plain": [
              "      subject classname            img\n",
              "0        p002        c0  img_44733.jpg\n",
              "1        p002        c0  img_72999.jpg\n",
              "2        p002        c0  img_25094.jpg\n",
              "3        p002        c0  img_69092.jpg\n",
              "4        p002        c0  img_92629.jpg\n",
              "...       ...       ...            ...\n",
              "22419    p081        c9  img_56936.jpg\n",
              "22420    p081        c9  img_46218.jpg\n",
              "22421    p081        c9  img_25946.jpg\n",
              "22422    p081        c9  img_67850.jpg\n",
              "22423    p081        c9   img_9684.jpg\n",
              "\n",
              "[15686 rows x 3 columns]"
            ]
          },
          "metadata": {
            "tags": []
          },
          "execution_count": 144
        }
      ]
    },
    {
      "cell_type": "code",
      "metadata": {
        "id": "ex0G4NQCRn0j",
        "colab_type": "code",
        "colab": {
          "base_uri": "https://localhost:8080/",
          "height": 419
        },
        "outputId": "cc7473cf-2acc-41b2-aa75-507a59349d7c"
      },
      "source": [
        "df_images_test"
      ],
      "execution_count": 145,
      "outputs": [
        {
          "output_type": "execute_result",
          "data": {
            "text/html": [
              "<div>\n",
              "<style scoped>\n",
              "    .dataframe tbody tr th:only-of-type {\n",
              "        vertical-align: middle;\n",
              "    }\n",
              "\n",
              "    .dataframe tbody tr th {\n",
              "        vertical-align: top;\n",
              "    }\n",
              "\n",
              "    .dataframe thead th {\n",
              "        text-align: right;\n",
              "    }\n",
              "</style>\n",
              "<table border=\"1\" class=\"dataframe\">\n",
              "  <thead>\n",
              "    <tr style=\"text-align: right;\">\n",
              "      <th></th>\n",
              "      <th>subject</th>\n",
              "      <th>classname</th>\n",
              "      <th>img</th>\n",
              "    </tr>\n",
              "  </thead>\n",
              "  <tbody>\n",
              "    <tr>\n",
              "      <th>725</th>\n",
              "      <td>p012</td>\n",
              "      <td>c0</td>\n",
              "      <td>img_10206.jpg</td>\n",
              "    </tr>\n",
              "    <tr>\n",
              "      <th>726</th>\n",
              "      <td>p012</td>\n",
              "      <td>c0</td>\n",
              "      <td>img_27079.jpg</td>\n",
              "    </tr>\n",
              "    <tr>\n",
              "      <th>727</th>\n",
              "      <td>p012</td>\n",
              "      <td>c0</td>\n",
              "      <td>img_50749.jpg</td>\n",
              "    </tr>\n",
              "    <tr>\n",
              "      <th>728</th>\n",
              "      <td>p012</td>\n",
              "      <td>c0</td>\n",
              "      <td>img_97089.jpg</td>\n",
              "    </tr>\n",
              "    <tr>\n",
              "      <th>729</th>\n",
              "      <td>p012</td>\n",
              "      <td>c0</td>\n",
              "      <td>img_37741.jpg</td>\n",
              "    </tr>\n",
              "    <tr>\n",
              "      <th>...</th>\n",
              "      <td>...</td>\n",
              "      <td>...</td>\n",
              "      <td>...</td>\n",
              "    </tr>\n",
              "    <tr>\n",
              "      <th>21596</th>\n",
              "      <td>p075</td>\n",
              "      <td>c9</td>\n",
              "      <td>img_15827.jpg</td>\n",
              "    </tr>\n",
              "    <tr>\n",
              "      <th>21597</th>\n",
              "      <td>p075</td>\n",
              "      <td>c9</td>\n",
              "      <td>img_16688.jpg</td>\n",
              "    </tr>\n",
              "    <tr>\n",
              "      <th>21598</th>\n",
              "      <td>p075</td>\n",
              "      <td>c9</td>\n",
              "      <td>img_64532.jpg</td>\n",
              "    </tr>\n",
              "    <tr>\n",
              "      <th>21599</th>\n",
              "      <td>p075</td>\n",
              "      <td>c9</td>\n",
              "      <td>img_7918.jpg</td>\n",
              "    </tr>\n",
              "    <tr>\n",
              "      <th>21600</th>\n",
              "      <td>p075</td>\n",
              "      <td>c9</td>\n",
              "      <td>img_84918.jpg</td>\n",
              "    </tr>\n",
              "  </tbody>\n",
              "</table>\n",
              "<p>6738 rows × 3 columns</p>\n",
              "</div>"
            ],
            "text/plain": [
              "      subject classname            img\n",
              "725      p012        c0  img_10206.jpg\n",
              "726      p012        c0  img_27079.jpg\n",
              "727      p012        c0  img_50749.jpg\n",
              "728      p012        c0  img_97089.jpg\n",
              "729      p012        c0  img_37741.jpg\n",
              "...       ...       ...            ...\n",
              "21596    p075        c9  img_15827.jpg\n",
              "21597    p075        c9  img_16688.jpg\n",
              "21598    p075        c9  img_64532.jpg\n",
              "21599    p075        c9   img_7918.jpg\n",
              "21600    p075        c9  img_84918.jpg\n",
              "\n",
              "[6738 rows x 3 columns]"
            ]
          },
          "metadata": {
            "tags": []
          },
          "execution_count": 145
        }
      ]
    }
  ]
}